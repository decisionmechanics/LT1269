{
 "cells": [
  {
   "cell_type": "markdown",
   "id": "48b525f8-4c7f-4d1a-86e7-c48c711b757e",
   "metadata": {},
   "source": [
    "# Hands-On Exercise 5.1: Forecasting using Prophet"
   ]
  },
  {
   "cell_type": "markdown",
   "id": "10ff7345-be42-420a-9d8c-d5c930fad641",
   "metadata": {},
   "source": [
    "## Objectives"
   ]
  },
  {
   "cell_type": "markdown",
   "id": "2a07a0da-193f-4a3f-8789-b29fd13b5194",
   "metadata": {
    "tags": []
   },
   "source": [
    "In this exercise, you will learn how to do time series forecasting using Prophet."
   ]
  },
  {
   "cell_type": "markdown",
   "id": "9df227fb-4437-4e48-b0fd-1709686789dc",
   "metadata": {
    "tags": []
   },
   "source": [
    "## Overview"
   ]
  },
  {
   "cell_type": "markdown",
   "id": "7a7fbbc7-c662-4652-a05f-c5c813e5e284",
   "metadata": {
    "tags": []
   },
   "source": [
    "Prophet is a procedure and libraries for forecasting time series. It was created at Meta (Facebook) to all teams across the company to perform forecasting with minimal effort.\n",
    "\n",
    "It makes use of the Stan probabilistic programming language to fit the time series models to the data.\n",
    "\n",
    "You will use Prophet to forecast Canadian vehicle sales and COVID 19 cases."
   ]
  },
  {
   "cell_type": "markdown",
   "id": "6e55eac4-b67c-4a98-9f7a-c3bc444b2177",
   "metadata": {
    "tags": []
   },
   "source": [
    "## Load libraries"
   ]
  },
  {
   "cell_type": "markdown",
   "id": "20cc17b0-78d0-47e3-acc2-d90225209c82",
   "metadata": {},
   "source": [
    "Load the libraries you'll be using in this exercise."
   ]
  },
  {
   "cell_type": "code",
   "execution_count": null,
   "id": "87b704ca-a88d-4b81-9660-3796303925ef",
   "metadata": {
    "tags": []
   },
   "outputs": [],
   "source": [
    "library(dplyr)\n",
    "library(lubridate)\n",
    "library(prophet)\n",
    "library(readr)"
   ]
  },
  {
   "cell_type": "markdown",
   "id": "92b738ba-c912-469b-acf9-1bd5c5c162a5",
   "metadata": {
    "tags": []
   },
   "source": [
    "## Forecasting vehicle sales"
   ]
  },
  {
   "cell_type": "markdown",
   "id": "6e6dd7c8-262f-427d-8f8f-fd8546d8c2ad",
   "metadata": {
    "tags": []
   },
   "source": [
    "In RStudio, create a new script (e.g. `Ex5.1.R`). Add commands to the file according to the instructions that follow in this exercise, and execute each command as you move through the steps."
   ]
  },
  {
   "cell_type": "markdown",
   "id": "acb0526a-31e2-47d3-b2e9-6a2515362220",
   "metadata": {
    "tags": []
   },
   "source": [
    "Read the new vehicle sales data in `data/new_vehicle_sales.csv` as `vehicle_sales_data`.\n",
    "\n",
    "Transform `REF_DATE` to a `datetime` value names `ds` and rename `VALUE` to be `y` (as required by Prophet).\n",
    "\n",
    "Select only these two fields."
   ]
  },
  {
   "cell_type": "markdown",
   "id": "fc5f64a0-791e-4533-91f8-0a7e26083450",
   "metadata": {
    "tags": []
   },
   "source": [
    "<font color=\"red\">**Set the working directory to the course root folder using `setwd(\"/home/user/course/\")`.**</font>"
   ]
  },
  {
   "cell_type": "markdown",
   "id": "64a12c7d-d124-4d15-8d27-065f85b48080",
   "metadata": {
    "tags": []
   },
   "source": [
    "#### <font color=\"green\">Solution...</font>"
   ]
  },
  {
   "cell_type": "code",
   "execution_count": null,
   "id": "36501103-f060-4033-aee8-1453778e4e52",
   "metadata": {
    "jupyter": {
     "source_hidden": true
    },
    "tags": []
   },
   "outputs": [],
   "source": [
    "vehicle_sales_data <- read_csv(\"data/new_vehicle_sales.csv\") |>\n",
    "  mutate(ds=ym(REF_DATE)) |>\n",
    "  select(ds, y=VALUE)"
   ]
  },
  {
   "cell_type": "markdown",
   "id": "2185b517-3722-479c-8195-164d62d7bae7",
   "metadata": {},
   "source": [
    "Review the data."
   ]
  },
  {
   "cell_type": "markdown",
   "id": "5ad0b744-4f57-4063-86f5-a986ba8ded5d",
   "metadata": {
    "tags": []
   },
   "source": [
    "#### <font color=\"green\">Solution...</font>"
   ]
  },
  {
   "cell_type": "code",
   "execution_count": null,
   "id": "8647a461-8e7e-4eb9-bfbb-3ec94a180c52",
   "metadata": {
    "jupyter": {
     "source_hidden": true
    },
    "tags": []
   },
   "outputs": [],
   "source": [
    "View(vehicle_sales_data)"
   ]
  },
  {
   "cell_type": "markdown",
   "id": "5ded4bd3-88f3-4bf7-b590-0069aa9f378f",
   "metadata": {},
   "source": [
    "This contains the number of motor vehicles sold in Canada for every month since 1946."
   ]
  },
  {
   "cell_type": "markdown",
   "id": "4b9f1f4e-ed22-49f4-b09c-aa5e6c9c4ee0",
   "metadata": {},
   "source": [
    "Create a Prophet model from the vehicle sales data. Assign it to `vehicle_sales_model`."
   ]
  },
  {
   "cell_type": "markdown",
   "id": "44bb5a3f-1703-4c92-800e-10335f763f55",
   "metadata": {
    "tags": []
   },
   "source": [
    "#### <font color=\"green\">Solution...</font>"
   ]
  },
  {
   "cell_type": "code",
   "execution_count": null,
   "id": "24dc366c-3381-46bb-9c69-2e1bdbc2b985",
   "metadata": {
    "jupyter": {
     "source_hidden": true
    },
    "tags": []
   },
   "outputs": [],
   "source": [
    "vehicle_sales_model <- prophet(vehicle_sales_data)"
   ]
  },
  {
   "cell_type": "markdown",
   "id": "6aee8827-97d4-4037-80ad-105107ce6392",
   "metadata": {},
   "source": [
    "Create a Prophet futures dataframe to hold predictions for another year (12 months) of sales. Assign it to `vehicle_sales_future`."
   ]
  },
  {
   "cell_type": "markdown",
   "id": "30f5f264-47fc-4868-9500-a5c0aebe2ac5",
   "metadata": {
    "tags": []
   },
   "source": [
    "#### <font color=\"green\">Solution...</font>"
   ]
  },
  {
   "cell_type": "code",
   "execution_count": null,
   "id": "c0aac9f5-0a47-4314-9deb-4f2d2c012fc4",
   "metadata": {
    "jupyter": {
     "source_hidden": true
    },
    "tags": []
   },
   "outputs": [],
   "source": [
    "vehicle_sales_future <- make_future_dataframe(vehicle_sales_model, freq=\"month\", periods=12)"
   ]
  },
  {
   "cell_type": "markdown",
   "id": "6cfb6808-c4a3-463f-9a39-6b0337723428",
   "metadata": {},
   "source": [
    "Calculate the predicted vehicle sales for the next year. Assign the predictions to `vehicle_sales_forecast`."
   ]
  },
  {
   "cell_type": "markdown",
   "id": "f280a32d-45e4-41db-9654-3316ba30a8a5",
   "metadata": {
    "tags": []
   },
   "source": [
    "#### <font color=\"green\">Solution...</font>"
   ]
  },
  {
   "cell_type": "code",
   "execution_count": null,
   "id": "f331ac04-1e5c-4baf-930d-3b84bfe6a89e",
   "metadata": {
    "jupyter": {
     "source_hidden": true
    },
    "tags": []
   },
   "outputs": [],
   "source": [
    "vehicle_sales_forecast <- predict(vehicle_sales_model, vehicle_sales_future)"
   ]
  },
  {
   "cell_type": "markdown",
   "id": "4c90b2b4-0cce-4225-92e3-4ea37bae58cd",
   "metadata": {},
   "source": [
    "Examine the predictions for the last few months."
   ]
  },
  {
   "cell_type": "markdown",
   "id": "2e691809-6bfa-4c2f-878f-f079d8a2b8cc",
   "metadata": {
    "tags": []
   },
   "source": [
    "#### <font color=\"green\">Solution...</font>"
   ]
  },
  {
   "cell_type": "code",
   "execution_count": null,
   "id": "5497c983-e8a6-4e80-9c52-d3cc41e84ff4",
   "metadata": {
    "jupyter": {
     "source_hidden": true
    },
    "tags": []
   },
   "outputs": [],
   "source": [
    "tail(vehicle_sales_forecast)"
   ]
  },
  {
   "cell_type": "markdown",
   "id": "04dfe984-702a-445c-99bc-ec0e47e3ca50",
   "metadata": {},
   "source": [
    "Plot the time series and predictions."
   ]
  },
  {
   "cell_type": "markdown",
   "id": "2507df68-f610-4680-afce-e5737ec20d3a",
   "metadata": {
    "tags": []
   },
   "source": [
    "#### <font color=\"green\">Solution...</font>"
   ]
  },
  {
   "cell_type": "code",
   "execution_count": null,
   "id": "66aae361-d37b-4163-aa36-119fa97cbe02",
   "metadata": {
    "jupyter": {
     "source_hidden": true
    },
    "tags": []
   },
   "outputs": [],
   "source": [
    "plot(vehicle_sales_model, vehicle_sales_forecast, xlabel=\"Year\",  ylabel=\"Vehicles\")"
   ]
  },
  {
   "cell_type": "markdown",
   "id": "e6461c09-60e7-4f49-988b-a7ebce1557cc",
   "metadata": {},
   "source": [
    "It's difficult to see what's going on as there's too much data. You could plot a subset of the data, but, instead, create an interactive plot."
   ]
  },
  {
   "cell_type": "markdown",
   "id": "9e9fdb1b-4fcf-4e52-91f9-93370c7e0784",
   "metadata": {
    "tags": []
   },
   "source": [
    "#### <font color=\"green\">Solution...</font>"
   ]
  },
  {
   "cell_type": "code",
   "execution_count": null,
   "id": "44317d12-e239-497d-9ff5-9c770c7add33",
   "metadata": {
    "jupyter": {
     "source_hidden": true
    },
    "tags": []
   },
   "outputs": [],
   "source": [
    "dyplot.prophet(vehicle_sales_model, vehicle_sales_forecast)"
   ]
  },
  {
   "cell_type": "markdown",
   "id": "a1627e61-aad1-4c62-82dc-4a26f207c120",
   "metadata": {},
   "source": [
    "Drag the lower range handle past 2020.\n",
    "\n",
    "Note that the data is highly seasonal. Also note that Prophet is fairly confident in its prediction of next year's sales. The error region doesn't diverge significantly. "
   ]
  },
  {
   "cell_type": "markdown",
   "id": "2f1c8108-771f-404b-a066-a23b7e22fcd3",
   "metadata": {},
   "source": [
    "Plot the components that Prophet has discovered to review the trend and seasonality."
   ]
  },
  {
   "cell_type": "markdown",
   "id": "ebd2ea6e-af15-4e81-b021-f0cf260d060d",
   "metadata": {
    "tags": []
   },
   "source": [
    "#### <font color=\"green\">Solution...</font>"
   ]
  },
  {
   "cell_type": "code",
   "execution_count": null,
   "id": "e8d18ea7-6137-4438-81eb-1a94657db37c",
   "metadata": {
    "jupyter": {
     "source_hidden": true
    },
    "tags": []
   },
   "outputs": [],
   "source": [
    "prophet_plot_components(vehicle_sales_model, vehicle_sales_forecast)"
   ]
  },
  {
   "cell_type": "markdown",
   "id": "2e48d2e2-c13f-43c4-a399-96b6896fffa9",
   "metadata": {},
   "source": [
    "Grow in sales stagnated from around 1980 to 1995, before picking up again.\n",
    "\n",
    "New car sales appear to be strongest in Spring. "
   ]
  },
  {
   "cell_type": "markdown",
   "id": "1183650b-f40e-40f9-bfef-bebc342409d6",
   "metadata": {},
   "source": [
    "## Forecasting COVID 19 cases"
   ]
  },
  {
   "cell_type": "markdown",
   "id": "82c42b66-20dc-4f5c-8baf-4e24e78e74b2",
   "metadata": {
    "tags": []
   },
   "source": [
    "Read the COVID 19 data (`data/covid_19.csv`).\n",
    "\n",
    "Filter it so that it only contains data for the US (`iso_code` is `USA`). Select `date` as `ds` and `new_cases` as `y` (i.e. use the format required by Prophet).\n",
    "\n",
    "Store the data as `usa_covid_data`."
   ]
  },
  {
   "cell_type": "code",
   "execution_count": null,
   "id": "15cb9fbb-13c5-41df-8c14-6eae5ac77473",
   "metadata": {
    "jupyter": {
     "source_hidden": true
    },
    "tags": []
   },
   "outputs": [],
   "source": [
    "usa_covid_data <- read_csv(\"data/covid_19.csv\") |>\n",
    "  filter(iso_code == \"USA\") |>\n",
    "  select(ds=date, y=new_cases)"
   ]
  },
  {
   "cell_type": "markdown",
   "id": "f2adb743-90f9-4728-b330-2f6351a86585",
   "metadata": {},
   "source": [
    "Review the data."
   ]
  },
  {
   "cell_type": "markdown",
   "id": "4a484344-eac7-4c95-9686-4ed51c415a04",
   "metadata": {
    "tags": []
   },
   "source": [
    "#### <font color=\"green\">Solution...</font>"
   ]
  },
  {
   "cell_type": "code",
   "execution_count": null,
   "id": "adb80f79-7443-4ed6-af4a-95ab2126019d",
   "metadata": {
    "jupyter": {
     "source_hidden": true
    },
    "tags": []
   },
   "outputs": [],
   "source": [
    "View(usa_covid_data)"
   ]
  },
  {
   "cell_type": "markdown",
   "id": "d6c38629-6663-42bf-9e2f-5621465ff98e",
   "metadata": {},
   "source": [
    "This is new cases of COVID recorded each day in the US."
   ]
  },
  {
   "cell_type": "markdown",
   "id": "d30e5982-e34c-451a-bb57-06ad69b1c078",
   "metadata": {},
   "source": [
    "Create a Prophet model from the COVID data. Assign it to `usa_covid_model`."
   ]
  },
  {
   "cell_type": "markdown",
   "id": "de31d71a-315d-45ec-87cd-2d97f709551d",
   "metadata": {
    "tags": []
   },
   "source": [
    "#### <font color=\"green\">Solution...</font>"
   ]
  },
  {
   "cell_type": "code",
   "execution_count": null,
   "id": "8c006902-84f7-4540-9dad-06571d0dac32",
   "metadata": {
    "jupyter": {
     "source_hidden": true
    },
    "tags": []
   },
   "outputs": [],
   "source": [
    "usa_covid_model <- prophet(usa_covid_data)"
   ]
  },
  {
   "cell_type": "markdown",
   "id": "5a2e4710-0414-44c0-9a37-6675fa645c7d",
   "metadata": {},
   "source": [
    "Create a Prophet futures dataframe to hold predictions for another three months (90 days) of new cases. Assign it to `usa_covid_future`."
   ]
  },
  {
   "cell_type": "markdown",
   "id": "a4a5af6b-c2d1-484f-85e2-7512d69616ef",
   "metadata": {
    "tags": []
   },
   "source": [
    "#### <font color=\"green\">Solution...</font>"
   ]
  },
  {
   "cell_type": "code",
   "execution_count": null,
   "id": "423daa39-bc9f-404a-a20a-a6719187a829",
   "metadata": {
    "jupyter": {
     "source_hidden": true
    },
    "tags": []
   },
   "outputs": [],
   "source": [
    "usa_covid_future <- make_future_dataframe(usa_covid_model, periods=90)"
   ]
  },
  {
   "cell_type": "markdown",
   "id": "36331266-3e3f-4f66-8a0b-56aa598b2452",
   "metadata": {},
   "source": [
    "Calculate the predicted new COVID cases for the next three months. Assign the predictions to `usa_covid_forecast`."
   ]
  },
  {
   "cell_type": "markdown",
   "id": "b1f4f7f4-9ab6-4d41-8dbb-1970a55c10e8",
   "metadata": {
    "tags": []
   },
   "source": [
    "#### <font color=\"green\">Solution...</font>"
   ]
  },
  {
   "cell_type": "code",
   "execution_count": null,
   "id": "1b7f0ae7-5e52-4d72-8ce4-7148151aff7b",
   "metadata": {
    "jupyter": {
     "source_hidden": true
    },
    "tags": []
   },
   "outputs": [],
   "source": [
    "usa_covid_forecast <- predict(usa_covid_model, usa_covid_future)"
   ]
  },
  {
   "cell_type": "markdown",
   "id": "75a20ed8-8108-4a3d-a2eb-10e0f0141208",
   "metadata": {},
   "source": [
    "Plot the time series and the predicted three months of new cases.\n",
    "\n",
    "Include the changepoints discovered by Prophet on the chart."
   ]
  },
  {
   "cell_type": "markdown",
   "id": "8b5c4a42-4704-4b2e-870a-3fe14c8c9890",
   "metadata": {
    "tags": []
   },
   "source": [
    "#### <font color=\"green\">Solution...</font>"
   ]
  },
  {
   "cell_type": "code",
   "execution_count": null,
   "id": "b2650aa2-6b63-4531-a718-29a426057bfb",
   "metadata": {
    "jupyter": {
     "source_hidden": true
    },
    "tags": []
   },
   "outputs": [],
   "source": [
    "plot(usa_covid_model, usa_covid_forecast, xlabel=\"Day\", ylabel=\"New cases\") +\n",
    "  add_changepoints_to_plot(usa_covid_model)"
   ]
  },
  {
   "cell_type": "markdown",
   "id": "35358f75-a548-4731-88a4-1c0970966818",
   "metadata": {},
   "source": [
    "This model doesn't seem to be a particularly good fit. It misses rising infections in April 2020, July 2020 and April 2021. It also underestimates the peak around January 2021. It's missing some of the change points---including one later in the time series (April 2021).\n",
    "\n",
    "The forecast for the next three months doesn't appear to be very sophisticated. It predicts an ever-declining number of new cases."
   ]
  },
  {
   "cell_type": "markdown",
   "id": "b548a10e-2031-4bdd-88f2-5e0c587880c2",
   "metadata": {},
   "source": [
    "Create an interactive plot of the new cases (including predictions)."
   ]
  },
  {
   "cell_type": "markdown",
   "id": "6261bc9c-dae3-4721-9493-05d1b45a7ae5",
   "metadata": {
    "tags": []
   },
   "source": [
    "#### <font color=\"green\">Solution...</font>"
   ]
  },
  {
   "cell_type": "code",
   "execution_count": null,
   "id": "a58bcfc6-3cf8-4341-827f-da2a76cf55cb",
   "metadata": {
    "jupyter": {
     "source_hidden": true
    },
    "tags": []
   },
   "outputs": [],
   "source": [
    "dyplot.prophet(usa_covid_model, usa_covid_forecast)"
   ]
  },
  {
   "cell_type": "markdown",
   "id": "5b01790d-4c4d-471f-8684-d439ecebb7a3",
   "metadata": {},
   "source": [
    "Zoom in and examine the seasonality. Prophet has identified the weekly seasonality in this data. \n",
    "\n",
    "However, this isn't of much interest to those tracking COVID infections. They are more interested in the longer term effects (e.g. rising infections, peaks, etc.).\n",
    "\n",
    "Prophet may have overfitted to the seasonal effects."
   ]
  },
  {
   "cell_type": "markdown",
   "id": "98c72b1d-a14e-4c2b-ab95-69769b697b6b",
   "metadata": {},
   "source": [
    "Create a new Prophet model of new US COVID cases with the following parameters.\n",
    "\n",
    "- Weekly seasonality disabled (to reduce overfitting)\n",
    "- Changepoints detected over the _entire_ time period\n",
    "- Discover more changepoints\n",
    "\n",
    "Assign the new model to `usa_covid_model_tuned`."
   ]
  },
  {
   "cell_type": "markdown",
   "id": "87513f5a-5215-4e15-946f-f7a267172b7f",
   "metadata": {
    "tags": []
   },
   "source": [
    "#### <font color=\"green\">Solution...</font>"
   ]
  },
  {
   "cell_type": "code",
   "execution_count": null,
   "id": "4dda844d-a654-4fca-8ce3-f567508e2c22",
   "metadata": {
    "jupyter": {
     "source_hidden": true
    },
    "tags": []
   },
   "outputs": [],
   "source": [
    "usa_covid_model_tuned <- prophet(\n",
    "  usa_covid_data, \n",
    "  weekly.seasonality=FALSE, \n",
    "  changepoint.range=1,\n",
    "  changepoint.prior.scale=0.75\n",
    ")"
   ]
  },
  {
   "cell_type": "markdown",
   "id": "8c908e2c-e9de-4907-b174-0f6d3324ddfd",
   "metadata": {},
   "source": [
    "Create a Prophet futures dataframe to hold (tuned) predictions for another three months (90 days) of new cases. Assign it to `usa_covid_future_tuned`."
   ]
  },
  {
   "cell_type": "markdown",
   "id": "78fba840-64df-4d92-9662-32ae55bc1508",
   "metadata": {
    "tags": []
   },
   "source": [
    "#### <font color=\"green\">Solution...</font>"
   ]
  },
  {
   "cell_type": "code",
   "execution_count": null,
   "id": "8da3d8b6-7630-4851-a9a6-3290dac9fd44",
   "metadata": {
    "jupyter": {
     "source_hidden": true
    },
    "tags": []
   },
   "outputs": [],
   "source": [
    "usa_covid_future_tuned <- make_future_dataframe(usa_covid_model_tuned, periods=90)"
   ]
  },
  {
   "cell_type": "markdown",
   "id": "51ce27d2-0ba6-4d0e-8b64-482b292ad06f",
   "metadata": {},
   "source": [
    "Using the _tuned_ model, calculate the predicted new COVID cases for the next three months. Assign the predictions to `usa_covid_forecast_tuned`."
   ]
  },
  {
   "cell_type": "markdown",
   "id": "7c48cbf8-2d24-4f2e-8263-74d7f2bbf680",
   "metadata": {
    "tags": []
   },
   "source": [
    "#### <font color=\"green\">Solution...</font>"
   ]
  },
  {
   "cell_type": "code",
   "execution_count": null,
   "id": "b30bf65a-f99c-4461-94c7-e87611bc3bc2",
   "metadata": {
    "jupyter": {
     "source_hidden": true
    },
    "tags": []
   },
   "outputs": [],
   "source": [
    "usa_covid_forecast_tuned <- predict(usa_covid_model_tuned, usa_covid_future_tuned)"
   ]
  },
  {
   "cell_type": "markdown",
   "id": "22b55033-4013-4576-ac5f-1bf51d7fcfc0",
   "metadata": {},
   "source": [
    "Plot the time series and predictions---including the changepoints discovered by Prophet."
   ]
  },
  {
   "cell_type": "markdown",
   "id": "f4dc185f-7b3a-42a0-a4e0-2192c8867f8d",
   "metadata": {
    "tags": []
   },
   "source": [
    "#### <font color=\"green\">Solution...</font>"
   ]
  },
  {
   "cell_type": "code",
   "execution_count": null,
   "id": "0306a276-eba7-461e-a415-6495b646dddc",
   "metadata": {
    "jupyter": {
     "source_hidden": true
    },
    "tags": []
   },
   "outputs": [],
   "source": [
    "plot(usa_covid_model_tuned, usa_covid_forecast_tuned, xlabel=\"Day\", ylabel=\"New cases\") +\n",
    "  add_changepoints_to_plot(usa_covid_model_tuned)"
   ]
  },
  {
   "cell_type": "markdown",
   "id": "2710060c-ca84-40a3-a3a2-73c06fdf75b3",
   "metadata": {},
   "source": [
    "Note that the model is a _much_ better fit to the data. Prophet has identified many more changepoints---including ones later in the period covered.\n",
    "\n",
    "However, look at the uncertain in the prediction as it gets further out. Prophet has little confidence in its prediction of new COVID cases in the US. Hardly surprising, given the challenges of modelling infection rates.\n",
    "\n",
    "A lot more work would be required to make this a useful model. It's actually unlikely that time series modelling would be able to predict COVID infections with any accuracy. One of main challenges in data science is selecting the correct modelling approach in the first place."
   ]
  },
  {
   "cell_type": "markdown",
   "id": "7f90ba66-03a3-4b85-9aff-d059c1f6708c",
   "metadata": {
    "tags": []
   },
   "source": [
    "## Congratulations!"
   ]
  },
  {
   "cell_type": "markdown",
   "id": "71f379cc-b227-46d4-b373-fa06f557616c",
   "metadata": {},
   "source": [
    "You have successfully forecast time series using Prophet."
   ]
  }
 ],
 "metadata": {
  "kernelspec": {
   "display_name": "R",
   "language": "R",
   "name": "ir"
  },
  "language_info": {
   "codemirror_mode": "r",
   "file_extension": ".r",
   "mimetype": "text/x-r-source",
   "name": "R",
   "pygments_lexer": "r",
   "version": "4.1.2"
  }
 },
 "nbformat": 4,
 "nbformat_minor": 5
}
