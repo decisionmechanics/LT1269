{
 "cells": [
  {
   "cell_type": "markdown",
   "id": "a15a68ef-09fc-4ff7-bfc2-672c8002cf96",
   "metadata": {},
   "source": [
    "# After-Course Activity: Regression Analysis"
   ]
  },
  {
   "cell_type": "markdown",
   "id": "43f72e89-3357-4d0b-8412-699eb7bee20f",
   "metadata": {},
   "source": [
    "## Objectives"
   ]
  },
  {
   "cell_type": "markdown",
   "id": "a2c178bb-375d-4f04-bef3-d0df47dae0ad",
   "metadata": {},
   "source": [
    "In this exercise, you will perform regression analysis on structured data using R. This exercise allows you to predict a target variable from a number of predictor variables. The goal is to show you how regression can be used to predict unknown values from a model trained on an existing data set."
   ]
  },
  {
   "cell_type": "markdown",
   "id": "b548a812-7221-4caf-9d09-fc6353b2011c",
   "metadata": {},
   "source": [
    "## Overview"
   ]
  },
  {
   "cell_type": "markdown",
   "id": "39a733c1-46f4-44db-996a-5b04830d82ee",
   "metadata": {},
   "source": [
    "You will work on a data set called `Prestige` that is included with the `car` package. You will:\n",
    "\n",
    "- Review the distribution of the target variable\n",
    "- Examine the data set for correlated variables\n",
    "- Define a linear model that best describes data from which we can make future predictions"
   ]
  },
  {
   "cell_type": "markdown",
   "id": "2cc161cf-99eb-46ab-8614-17bf96083223",
   "metadata": {},
   "source": [
    "## Data loading and text preprocessing"
   ]
  },
  {
   "cell_type": "markdown",
   "id": "80e32319-7729-4ca0-9483-3d2229e3f063",
   "metadata": {},
   "source": [
    "In RStudio, create a new script (e.g. `regression_analysis.R`). Add commands to the file according to the instructions that follow in this exercise, and execute each command as you move through the steps.\n",
    "\n",
    "Load the `car` library."
   ]
  },
  {
   "cell_type": "markdown",
   "id": "ccbf3f20-1ec9-472c-973e-c742f290f296",
   "metadata": {
    "tags": []
   },
   "source": [
    "#### <font color=\"green\">Solution...</font>"
   ]
  },
  {
   "cell_type": "code",
   "execution_count": null,
   "id": "7b4fb807-02c3-494c-9c03-b9fd76ef234f",
   "metadata": {
    "jupyter": {
     "source_hidden": true
    },
    "tags": []
   },
   "outputs": [],
   "source": [
    "library(car)"
   ]
  },
  {
   "cell_type": "markdown",
   "id": "614684e9-ac73-424e-9eff-c42ef16d2ddd",
   "metadata": {},
   "source": [
    "Examine the structure of the `Prestige` data set."
   ]
  },
  {
   "cell_type": "markdown",
   "id": "0a5c8c0e-aeb0-44f8-b94d-891f6572e6f8",
   "metadata": {
    "tags": []
   },
   "source": [
    "#### <font color=\"green\">Solution...</font>"
   ]
  },
  {
   "cell_type": "code",
   "execution_count": null,
   "id": "dd9f718b-ef5a-47b8-b8ff-f5154cec1f2b",
   "metadata": {
    "jupyter": {
     "source_hidden": true
    },
    "tags": []
   },
   "outputs": [],
   "source": [
    "str(Prestige)"
   ]
  },
  {
   "cell_type": "markdown",
   "id": "ed2dbbd3-38e5-45af-a662-6fc87cf89e3c",
   "metadata": {},
   "source": [
    "Examine the distribution of the target variable `prestige`."
   ]
  },
  {
   "cell_type": "markdown",
   "id": "550460ef-64d9-425c-bb6b-a9429766c449",
   "metadata": {
    "tags": []
   },
   "source": [
    "#### <font color=\"green\">Solution...</font>"
   ]
  },
  {
   "cell_type": "code",
   "execution_count": null,
   "id": "dee47a8b-263b-4644-899e-13dad8141d97",
   "metadata": {
    "jupyter": {
     "source_hidden": true
    },
    "tags": []
   },
   "outputs": [],
   "source": [
    "summary(Prestige$prestige)"
   ]
  },
  {
   "cell_type": "markdown",
   "id": "058cc6d0-8346-4c6d-82e5-2a03ca34548c",
   "metadata": {},
   "source": [
    "Is there is a difference between the mean and the median?"
   ]
  },
  {
   "cell_type": "markdown",
   "id": "02653d66-2a32-4566-b621-dc2deaf6890d",
   "metadata": {
    "tags": []
   },
   "source": [
    "#### <font color=\"green\">Solution...</font>"
   ]
  },
  {
   "cell_type": "markdown",
   "id": "0e8b3f10-e164-4647-9485-8560525af30f",
   "metadata": {
    "jupyter": {
     "source_hidden": true
    },
    "tags": []
   },
   "source": [
    "Yes (46.83 vs 43.60)  "
   ]
  },
  {
   "cell_type": "markdown",
   "id": "6c009051-3683-49b1-8cb6-173c61c5c81a",
   "metadata": {},
   "source": [
    "What might this indicate?"
   ]
  },
  {
   "cell_type": "markdown",
   "id": "efc24081-6960-4b42-beaa-ea9938a10aae",
   "metadata": {
    "tags": []
   },
   "source": [
    "#### <font color=\"green\">Solution...</font>"
   ]
  },
  {
   "cell_type": "markdown",
   "id": "65a952cb-c0c9-48c6-8ce1-ad68910cc56f",
   "metadata": {
    "jupyter": {
     "source_hidden": true
    },
    "tags": []
   },
   "source": [
    "A (right-)skewed distribution."
   ]
  },
  {
   "cell_type": "markdown",
   "id": "b236f7a7-4d86-4c0b-802f-aafdeb9b3428",
   "metadata": {},
   "source": [
    "Generate a histogram to confirm it visually."
   ]
  },
  {
   "cell_type": "markdown",
   "id": "d441d467-67b8-4ac2-abbf-2875d5b09bc3",
   "metadata": {
    "tags": []
   },
   "source": [
    "#### <font color=\"green\">Solution...</font>"
   ]
  },
  {
   "cell_type": "code",
   "execution_count": null,
   "id": "14ae8a19-0b8e-42d3-bbd4-63b560060306",
   "metadata": {
    "jupyter": {
     "source_hidden": true
    },
    "tags": []
   },
   "outputs": [],
   "source": [
    "hist(Prestige$prestige)"
   ]
  },
  {
   "cell_type": "markdown",
   "id": "2bcdcf8b-56f5-470d-bcf9-b1a7df4c0a4d",
   "metadata": {},
   "source": [
    "Take a look at the distribution of the levels of the `type` attribute."
   ]
  },
  {
   "cell_type": "markdown",
   "id": "9109087e-e017-46e8-8db3-1ec55f59f938",
   "metadata": {
    "tags": []
   },
   "source": [
    "#### <font color=\"green\">Solution...</font>"
   ]
  },
  {
   "cell_type": "code",
   "execution_count": null,
   "id": "f2c822fd-6cb6-45e8-9d02-05cdab66b797",
   "metadata": {
    "jupyter": {
     "source_hidden": true
    },
    "tags": []
   },
   "outputs": [],
   "source": [
    "table(Prestige$type)"
   ]
  },
  {
   "cell_type": "markdown",
   "id": "bf51c9da-8734-47d4-b454-80cbefa4fcaa",
   "metadata": {},
   "source": [
    "Create a correlation matrix to examine the relationship between the `income` and `education` variables."
   ]
  },
  {
   "cell_type": "markdown",
   "id": "5bf258cd-318c-4c78-bdc8-9f2ad7d6170b",
   "metadata": {
    "tags": []
   },
   "source": [
    "#### <font color=\"green\">Solution...</font>"
   ]
  },
  {
   "cell_type": "code",
   "execution_count": null,
   "id": "ac2b1f0b-2343-487e-b200-b61c796fb089",
   "metadata": {
    "jupyter": {
     "source_hidden": true
    },
    "tags": []
   },
   "outputs": [],
   "source": [
    "cor(Prestige$income, Prestige$education)"
   ]
  },
  {
   "cell_type": "markdown",
   "id": "9fdddb32-9b3b-4b9a-9f86-b7c134233ac6",
   "metadata": {},
   "source": [
    "Create a correlation matrix to examine the relationship between the `income`, `education`, and `women` variables."
   ]
  },
  {
   "cell_type": "markdown",
   "id": "66155d0f-b8a0-4b4b-bc7a-c09b454ce483",
   "metadata": {
    "tags": []
   },
   "source": [
    "#### <font color=\"green\">Solution...</font>"
   ]
  },
  {
   "cell_type": "code",
   "execution_count": null,
   "id": "fe080108-4dcc-4804-906c-bb44dbd360e2",
   "metadata": {
    "jupyter": {
     "source_hidden": true
    },
    "tags": []
   },
   "outputs": [],
   "source": [
    "cor(Prestige[c(\"education\",\"income\",\"women\")])"
   ]
  },
  {
   "cell_type": "markdown",
   "id": "2267eb8a-c8c5-41a1-b7c2-8223802ba25c",
   "metadata": {},
   "source": [
    "Visualize the relationship among these three variables."
   ]
  },
  {
   "cell_type": "markdown",
   "id": "8ac01f77-600d-45d6-baf5-903fd72cf719",
   "metadata": {
    "tags": []
   },
   "source": [
    "#### <font color=\"green\">Solution...</font>"
   ]
  },
  {
   "cell_type": "code",
   "execution_count": null,
   "id": "5134f6a5-3c04-424b-86a2-a30ed22046da",
   "metadata": {
    "jupyter": {
     "source_hidden": true
    },
    "tags": []
   },
   "outputs": [],
   "source": [
    "pairs(Prestige[c(\"education\",\"income\",\"women\")])"
   ]
  },
  {
   "cell_type": "markdown",
   "id": "fd88240f-0e2a-49b4-9241-45b514a7da2f",
   "metadata": {},
   "source": [
    "Are there any patterns in the plots?"
   ]
  },
  {
   "cell_type": "markdown",
   "id": "8cc12a36-be45-4e8e-b45d-1ff43724b77e",
   "metadata": {
    "tags": []
   },
   "source": [
    "#### <font color=\"green\">Solution...</font>"
   ]
  },
  {
   "cell_type": "markdown",
   "id": "995b5219-6c9a-4f5d-9fce-38a8dc4b0749",
   "metadata": {
    "jupyter": {
     "source_hidden": true
    },
    "tags": []
   },
   "source": [
    "There appears to be a relationship between `education` and `income`."
   ]
  },
  {
   "cell_type": "markdown",
   "id": "58150066-6b0e-4edd-8786-70ef6a1c4644",
   "metadata": {},
   "source": [
    "Load the `stats` library."
   ]
  },
  {
   "cell_type": "markdown",
   "id": "41fcbaf2-43ea-46fb-ab64-822de6772a1f",
   "metadata": {
    "tags": []
   },
   "source": [
    "#### <font color=\"green\">Solution...</font>"
   ]
  },
  {
   "cell_type": "code",
   "execution_count": null,
   "id": "5cda9114-5f3b-4989-962d-fa264e8ba8d9",
   "metadata": {
    "jupyter": {
     "source_hidden": true
    },
    "tags": []
   },
   "outputs": [],
   "source": [
    "library(stats)"
   ]
  },
  {
   "cell_type": "markdown",
   "id": "c3943a95-fa18-4c0e-b959-88d4c6e7708e",
   "metadata": {},
   "source": [
    "Using the `lm()` function from the stats package, fit a linear regression model to relate the independent variables to the total."
   ]
  },
  {
   "cell_type": "markdown",
   "id": "11867248-0bfe-4633-b1d3-e5aa21b89571",
   "metadata": {
    "tags": []
   },
   "source": [
    "#### <font color=\"green\">Solution...</font>"
   ]
  },
  {
   "cell_type": "code",
   "execution_count": null,
   "id": "eea216c5-a812-4369-b560-e0dcefaab927",
   "metadata": {
    "jupyter": {
     "source_hidden": true
    },
    "tags": []
   },
   "outputs": [],
   "source": [
    "prestige_model <- lm(prestige ~ ., data=Prestige) \n",
    "\n",
    "# Same as: prestige_model <- lm(prestige ~ education + women + income + type + census, data=Prestige)"
   ]
  },
  {
   "cell_type": "markdown",
   "id": "c2e067e6-6e15-4fca-b54d-f82f538f98fa",
   "metadata": {},
   "source": [
    "View the model to see the estimated coefficients."
   ]
  },
  {
   "cell_type": "markdown",
   "id": "072c7af1-c2fb-417f-999b-645a27c76aa4",
   "metadata": {
    "tags": []
   },
   "source": [
    "#### <font color=\"green\">Solution...</font>"
   ]
  },
  {
   "cell_type": "code",
   "execution_count": null,
   "id": "9dee393b-3c34-4c43-b804-a9a557439c43",
   "metadata": {
    "jupyter": {
     "source_hidden": true
    },
    "tags": []
   },
   "outputs": [],
   "source": [
    "prestige_model"
   ]
  },
  {
   "cell_type": "markdown",
   "id": "caafdd69-b44b-41de-9e52-d105a140122b",
   "metadata": {},
   "source": [
    "Evaluate the model to see how well the model fits the data."
   ]
  },
  {
   "cell_type": "markdown",
   "id": "afbd38ad-1709-463f-934e-27001a39179d",
   "metadata": {
    "tags": []
   },
   "source": [
    "#### <font color=\"green\">Solution...</font>"
   ]
  },
  {
   "cell_type": "code",
   "execution_count": null,
   "id": "933061cd-df0b-43f0-8bd1-89b71d947239",
   "metadata": {
    "jupyter": {
     "source_hidden": true
    },
    "tags": []
   },
   "outputs": [],
   "source": [
    "summary(prestige_model)"
   ]
  },
  {
   "cell_type": "markdown",
   "id": "7fe8b088-db37-48db-96a5-b0745c565a37",
   "metadata": {},
   "source": [
    "What was the maximum error in our predictions (the maximum residual)?"
   ]
  },
  {
   "cell_type": "markdown",
   "id": "1e759b94-20cd-4f37-9ca0-fb15190f39cb",
   "metadata": {
    "tags": []
   },
   "source": [
    "#### <font color=\"green\">Solution...</font>"
   ]
  },
  {
   "cell_type": "markdown",
   "id": "f845abea-dbd2-4bab-8edf-91c3547b5d05",
   "metadata": {
    "jupyter": {
     "source_hidden": true
    },
    "tags": []
   },
   "source": [
    "19.2402"
   ]
  },
  {
   "cell_type": "markdown",
   "id": "b82d1f1a-00e3-45c1-8b52-8ac4098611dc",
   "metadata": {},
   "source": [
    "What was the range of errors in the inter-quartile range (IQR) of residuals?"
   ]
  },
  {
   "cell_type": "markdown",
   "id": "429462c9-5fa9-4977-aac8-aa8c76c856df",
   "metadata": {
    "tags": []
   },
   "source": [
    "#### <font color=\"green\">Solution...</font>"
   ]
  },
  {
   "cell_type": "markdown",
   "id": "5d88c044-5c4a-4b0f-ba48-d30d106ab34c",
   "metadata": {
    "jupyter": {
     "source_hidden": true
    },
    "tags": []
   },
   "source": [
    "50% of predictions were between 4.98 points over and 4.87 points under the true value."
   ]
  },
  {
   "cell_type": "markdown",
   "id": "30f6660c-2917-450e-905a-a28ebffc72d7",
   "metadata": {},
   "source": [
    "Does the model have statistically significant variables?"
   ]
  },
  {
   "cell_type": "markdown",
   "id": "1d6b9307-ca62-4995-a039-55a4cdfd9d9a",
   "metadata": {
    "tags": []
   },
   "source": [
    "#### <font color=\"green\">Solution...</font>"
   ]
  },
  {
   "cell_type": "code",
   "execution_count": null,
   "id": "3708120a-687a-46bb-9539-9f67811fafec",
   "metadata": {
    "jupyter": {
     "source_hidden": true
    },
    "tags": []
   },
   "outputs": [],
   "source": [
    "Yes"
   ]
  },
  {
   "cell_type": "markdown",
   "id": "12fdb819-8e74-4267-8ac1-796ab6f59912",
   "metadata": {},
   "source": [
    "How much of the variation in the dependent variable is explained by the model (Multiple $R^{2}$)?"
   ]
  },
  {
   "cell_type": "markdown",
   "id": "4d989baa-6f5b-45de-98bf-ebe9310532d4",
   "metadata": {
    "tags": []
   },
   "source": [
    "#### <font color=\"green\">Solution...</font>"
   ]
  },
  {
   "cell_type": "markdown",
   "id": "8f3fc76e-2960-41f2-b0da-cfe4a5e0fe80",
   "metadata": {
    "jupyter": {
     "source_hidden": true
    },
    "tags": []
   },
   "source": [
    "83%"
   ]
  },
  {
   "cell_type": "markdown",
   "id": "e5932ff8-c486-41ad-82e0-518eaf510840",
   "metadata": {},
   "source": [
    "## Congratulations!"
   ]
  },
  {
   "cell_type": "markdown",
   "id": "de1773d9-52bf-462e-8372-02331feadbfe",
   "metadata": {},
   "source": [
    "You have successfully performed regression analysis on structured data using R."
   ]
  }
 ],
 "metadata": {
  "kernelspec": {
   "display_name": "R",
   "language": "R",
   "name": "ir"
  },
  "language_info": {
   "codemirror_mode": "r",
   "file_extension": ".r",
   "mimetype": "text/x-r-source",
   "name": "R",
   "pygments_lexer": "r",
   "version": "4.1.2"
  }
 },
 "nbformat": 4,
 "nbformat_minor": 5
}
