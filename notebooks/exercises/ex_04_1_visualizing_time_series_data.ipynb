{
 "cells": [
  {
   "cell_type": "markdown",
   "id": "00d7ccef-9006-4bf1-a260-3ec9b5b27eed",
   "metadata": {},
   "source": [
    "# Hands-On Exercise 4.1: Visualizing Time Series Data"
   ]
  },
  {
   "cell_type": "markdown",
   "id": "47d0a528-328b-4386-8e7c-aeddd0cac4bc",
   "metadata": {},
   "source": [
    "## Objectives"
   ]
  },
  {
   "cell_type": "markdown",
   "id": "e9815260-2ef1-4e89-90f0-6cc6a11f4307",
   "metadata": {
    "tags": []
   },
   "source": [
    "In this exercise, you will learn different ways of visualizing time series data in R."
   ]
  },
  {
   "cell_type": "markdown",
   "id": "284783d1-8769-4901-8085-48028262fdde",
   "metadata": {
    "tags": []
   },
   "source": [
    "## Overview"
   ]
  },
  {
   "cell_type": "markdown",
   "id": "9543977c-84c8-49ef-b545-0f2649a097fe",
   "metadata": {},
   "source": [
    "You will use a variety of packages and tools to visualize time series, rates of change and compare time series."
   ]
  },
  {
   "cell_type": "markdown",
   "id": "0c212cac-2b0b-410c-8db1-63b86fbf7c44",
   "metadata": {},
   "source": [
    "## Load libraries"
   ]
  },
  {
   "cell_type": "markdown",
   "id": "b0f11647-859f-40e2-8b7c-42196ddb9000",
   "metadata": {},
   "source": [
    "Load the libraries you'll be using in this exercise."
   ]
  },
  {
   "cell_type": "code",
   "execution_count": null,
   "id": "22e22f12-9833-41bb-a07b-cebe1efe572c",
   "metadata": {
    "tags": []
   },
   "outputs": [],
   "source": [
    "library(corrplot)\n",
    "library(dplyr)\n",
    "library(forecast)\n",
    "library(lubridate)\n",
    "library(PerformanceAnalytics)\n",
    "library(readr)\n",
    "library(RColorBrewer)\n",
    "library(TTR)"
   ]
  },
  {
   "cell_type": "markdown",
   "id": "2cca6ad4-0969-4c21-88d0-d8804e01202d",
   "metadata": {},
   "source": [
    "## Visualize champagne sales"
   ]
  },
  {
   "cell_type": "markdown",
   "id": "75ee6e60-2b11-45e9-853a-7257c75d4a23",
   "metadata": {},
   "source": [
    "In RStudio, create a new script (e.g. `Ex41.R`). Add commands to the file according to the instructions that follow in this exercise, and execute each command as you move through the steps."
   ]
  },
  {
   "cell_type": "markdown",
   "id": "c4815ca1-e967-4863-97a5-2d573d05e47c",
   "metadata": {
    "tags": []
   },
   "source": [
    "Read the champagne sales data in `data/champagne_sales.csv` as `champagne_sales_data`."
   ]
  },
  {
   "cell_type": "markdown",
   "id": "a2cccf95-c04b-4054-b039-50fe3dfa2f85",
   "metadata": {
    "tags": []
   },
   "source": [
    "<font color=\"red\">**Set the working directory to the course root folder using `setwd(\"/home/user/course/\")`.**</font>"
   ]
  },
  {
   "cell_type": "markdown",
   "id": "a11c226c-dabc-40db-9572-b27d73dcd4ca",
   "metadata": {
    "tags": []
   },
   "source": [
    "#### <font color=\"green\">Solution...</font>"
   ]
  },
  {
   "cell_type": "code",
   "execution_count": null,
   "id": "76bd655e-7410-4a1f-9e3d-ea73642b714a",
   "metadata": {
    "jupyter": {
     "source_hidden": true
    },
    "tags": []
   },
   "outputs": [],
   "source": [
    "champagne_sales_data <- read_csv(\"data/champagne_sales.csv\")"
   ]
  },
  {
   "cell_type": "markdown",
   "id": "99eb3a9f-7879-4e10-b642-26dd7c296e01",
   "metadata": {},
   "source": [
    "Review the data."
   ]
  },
  {
   "cell_type": "markdown",
   "id": "82c43456-eb5d-46bf-a4d0-66615e550209",
   "metadata": {
    "tags": []
   },
   "source": [
    "#### <font color=\"green\">Solution...</font>"
   ]
  },
  {
   "cell_type": "code",
   "execution_count": null,
   "id": "ca257dfd-41ec-46b0-82b8-bd26bdf7fd17",
   "metadata": {
    "jupyter": {
     "source_hidden": true
    },
    "tags": []
   },
   "outputs": [],
   "source": [
    "View(champagne_sales_data)"
   ]
  },
  {
   "cell_type": "markdown",
   "id": "241bc75f-e1f1-4ff1-8772-52e4f04ac0fc",
   "metadata": {},
   "source": [
    "This reports monthly sales of champagne from 1964 to 1972."
   ]
  },
  {
   "cell_type": "markdown",
   "id": "ede6fca4-e110-4900-ac9a-0d95a62d1cf0",
   "metadata": {
    "tags": []
   },
   "source": [
    "Create an `xts` object (`champagne_sales`) from `sales` indexed on `month`."
   ]
  },
  {
   "cell_type": "markdown",
   "id": "4bfb9ebe-2e3d-45a7-adc9-baab47aa0f68",
   "metadata": {
    "tags": []
   },
   "source": [
    "#### <font color=\"green\">Solution...</font>"
   ]
  },
  {
   "cell_type": "code",
   "execution_count": null,
   "id": "12381403-98a6-40b1-8be5-85fad938ae6b",
   "metadata": {
    "jupyter": {
     "source_hidden": true
    },
    "tags": []
   },
   "outputs": [],
   "source": [
    "champagne_sales <- xts(\n",
    "  champagne_sales_data$sales, \n",
    "  order.by=ym(champagne_sales_data$month)\n",
    ")"
   ]
  },
  {
   "cell_type": "markdown",
   "id": "d11e9b88-3ed0-4dc7-9720-aaf13373018f",
   "metadata": {},
   "source": [
    "Plot `champagne_sales` as a line chart."
   ]
  },
  {
   "cell_type": "markdown",
   "id": "0351df36-7f49-4641-a139-013ca80a341f",
   "metadata": {
    "tags": []
   },
   "source": [
    "#### <font color=\"green\">Solution...</font>"
   ]
  },
  {
   "cell_type": "code",
   "execution_count": null,
   "id": "c9a6cab0-a245-44f1-a8c0-d89c2ef1edac",
   "metadata": {
    "jupyter": {
     "source_hidden": true
    },
    "tags": []
   },
   "outputs": [],
   "source": [
    "plot(champagne_sales, main=\"Champagne sales\")"
   ]
  },
  {
   "cell_type": "markdown",
   "id": "425feaa6-e4a4-4ea1-a3d7-dd603b2f12ab",
   "metadata": {},
   "source": [
    "Plot `champagne_sales` as a bar chart."
   ]
  },
  {
   "cell_type": "markdown",
   "id": "80da411c-befa-471c-80f1-6c9bb1c70cbb",
   "metadata": {
    "tags": []
   },
   "source": [
    "#### <font color=\"green\">Solution...</font>"
   ]
  },
  {
   "cell_type": "code",
   "execution_count": null,
   "id": "b1b8681f-919b-4811-9eea-b01a299e97cc",
   "metadata": {
    "jupyter": {
     "source_hidden": true
    },
    "tags": []
   },
   "outputs": [],
   "source": [
    "plot(champagne_sales, type=\"h\", main=\"Champagne sales\") "
   ]
  },
  {
   "cell_type": "markdown",
   "id": "af869a4a-386e-4d14-b38d-65c040ff17d4",
   "metadata": {},
   "source": [
    "Display a line chart of `champagne_sales` highlighting sales in 1969."
   ]
  },
  {
   "cell_type": "code",
   "execution_count": null,
   "id": "0fd276a5-b731-41b5-90e2-af43d04ddecb",
   "metadata": {
    "jupyter": {
     "source_hidden": true
    },
    "tags": []
   },
   "outputs": [],
   "source": [
    "chart.TimeSeries(\n",
    "  champagne_sales, \n",
    "  period.areas = c(\"1969\"),\n",
    "  period.color = \"#0000FF22\",\n",
    "  event.lines = c(\"Jan 64\"), # Required. Bug?\n",
    "  event.labels = c(\"\")       # Required. Bug?\n",
    ")"
   ]
  },
  {
   "cell_type": "markdown",
   "id": "90f6571a-64eb-4809-8254-16c375f24dbb",
   "metadata": {},
   "source": [
    "## Visualize COVID 19 data"
   ]
  },
  {
   "cell_type": "markdown",
   "id": "9bb337d3-6e1f-4c08-b594-9e2e3d08392f",
   "metadata": {
    "tags": []
   },
   "source": [
    "Read the COVID 19 data (`data/covid_19.csv`) as `covid_data`.\n",
    "\n",
    "Filter it so that it only contains data for the UK (`iso_code` is `GBR`)."
   ]
  },
  {
   "cell_type": "code",
   "execution_count": null,
   "id": "aa699e08-b698-4a10-9cfb-44d7ae442977",
   "metadata": {
    "jupyter": {
     "source_hidden": true
    },
    "tags": []
   },
   "outputs": [],
   "source": [
    "covid_data <- read_csv(\"data/covid_19.csv\") |>\n",
    "  filter(iso_code == \"GBR\")"
   ]
  },
  {
   "cell_type": "markdown",
   "id": "8e1e6079-5402-4c0c-841a-51532f585f91",
   "metadata": {},
   "source": [
    "Review the data."
   ]
  },
  {
   "cell_type": "markdown",
   "id": "56dc3f2b-a69c-49ee-9ff5-69e870bb1b6f",
   "metadata": {
    "tags": []
   },
   "source": [
    "#### <font color=\"green\">Solution...</font>"
   ]
  },
  {
   "cell_type": "code",
   "execution_count": null,
   "id": "affebbf2-9560-40e6-8c90-8b963293eef2",
   "metadata": {
    "jupyter": {
     "source_hidden": true
    },
    "tags": []
   },
   "outputs": [],
   "source": [
    "View(covid_data)"
   ]
  },
  {
   "cell_type": "markdown",
   "id": "20de1dfa-f708-4275-b50e-2b1af9a0a5f0",
   "metadata": {},
   "source": [
    "This is daily COVID data including cases and deaths."
   ]
  },
  {
   "cell_type": "markdown",
   "id": "89602a2a-931a-4abe-ade3-9c4c8eb64741",
   "metadata": {
    "tags": []
   },
   "source": [
    "Create an `xts` object called `new_cases` from `new_cases_smoothed` indexed on `date`.\n",
    "\n",
    "Create an `xts` object called `new_deaths` from `new_deaths_smoothed` indexed on `date`."
   ]
  },
  {
   "cell_type": "markdown",
   "id": "0b8afb2e-4aa0-4c5c-9df2-7a8aa6b464c9",
   "metadata": {
    "tags": []
   },
   "source": [
    "#### <font color=\"green\">Solution...</font>"
   ]
  },
  {
   "cell_type": "code",
   "execution_count": null,
   "id": "110627f8-7199-408e-926d-712effe5a351",
   "metadata": {
    "jupyter": {
     "source_hidden": true
    },
    "tags": []
   },
   "outputs": [],
   "source": [
    "new_cases <- xts(covid_data$new_cases_smoothed, order.by=covid_data$date)\n",
    "new_deaths <- xts(covid_data$new_deaths_smoothed, order.by=covid_data$date)"
   ]
  },
  {
   "cell_type": "markdown",
   "id": "d25e7925-a69a-43cf-bf27-cc7ba62e451c",
   "metadata": {
    "tags": []
   },
   "source": [
    "Compare `new_cases` and `new_deaths` by plotting them one above the other."
   ]
  },
  {
   "cell_type": "markdown",
   "id": "7e62f051-1c0b-4e8c-84f1-69e048238d10",
   "metadata": {
    "tags": []
   },
   "source": [
    "#### <font color=\"green\">Solution...</font>"
   ]
  },
  {
   "cell_type": "code",
   "execution_count": null,
   "id": "6fedcfa6-4a07-4939-a022-28e72716ce98",
   "metadata": {
    "jupyter": {
     "source_hidden": true
    },
    "tags": []
   },
   "outputs": [],
   "source": [
    "par(mfrow = c(2, 1))\n",
    "plot(new_cases, main = \"New cases\")\n",
    "plot(new_deaths, main = \"New deaths\")\n",
    "dev.off()\n",
    "\n",
    "# Alternatively\n",
    "\n",
    "# lattice::xyplot(cbind(new_cases, new_deaths))"
   ]
  },
  {
   "cell_type": "markdown",
   "id": "f1ad6960-6208-4ff8-863c-31dfc1198c1b",
   "metadata": {},
   "source": [
    "Note the dates of the peaks in the two charts."
   ]
  },
  {
   "cell_type": "markdown",
   "id": "6ba0541a-773a-4a58-b188-0eb97daabe3f",
   "metadata": {
    "tags": []
   },
   "source": [
    "Plot vertical lines for 10 Jan 2021 and 24 Jan 2021 on both plots."
   ]
  },
  {
   "cell_type": "markdown",
   "id": "e5d399d9-83d9-454f-86e0-7ea1b29aeba2",
   "metadata": {
    "tags": []
   },
   "source": [
    "#### <font color=\"green\">Solution...</font>"
   ]
  },
  {
   "cell_type": "code",
   "execution_count": null,
   "id": "7866ae74-5b2d-442f-b632-ec2011a254de",
   "metadata": {
    "jupyter": {
     "source_hidden": true
    },
    "tags": []
   },
   "outputs": [],
   "source": [
    "plot_panel <- function(x, ...) {\n",
    "  lines(x, ...)\n",
    "  abline(v = as.Date(\"2021-01-10\"), col = \"red\")\n",
    "  abline(v = as.Date(\"2021-01-24\"), col = \"red\")\n",
    "}\n",
    "\n",
    "plot.zoo(cbind(new_cases, new_deaths), main = \"COVID 19\", panel=plot_panel)"
   ]
  },
  {
   "cell_type": "markdown",
   "id": "e4a2951c-ce1d-445b-ab24-8dd01c984766",
   "metadata": {},
   "source": [
    "What does this suggest about the time taken for cases to result in deaths?"
   ]
  },
  {
   "cell_type": "markdown",
   "id": "177fea4d-5d9c-4410-b649-be8980667be5",
   "metadata": {},
   "source": [
    "Calculate the rate of change of new cases (and assign it to `new_cases_change`)."
   ]
  },
  {
   "cell_type": "markdown",
   "id": "f425e974-b5ad-451b-a177-e78f0e566523",
   "metadata": {
    "tags": []
   },
   "source": [
    "#### <font color=\"green\">Solution...</font>"
   ]
  },
  {
   "cell_type": "code",
   "execution_count": null,
   "id": "fdccbcf8-61bd-4294-b0fd-b4beca030c54",
   "metadata": {
    "jupyter": {
     "source_hidden": true
    },
    "tags": []
   },
   "outputs": [],
   "source": [
    "new_cases_change <- ROC(new_cases)"
   ]
  },
  {
   "cell_type": "markdown",
   "id": "a8574e73-c6e0-41ae-b0a7-4219917c0100",
   "metadata": {},
   "source": [
    "Compare `new_cases` and `new_cases_changed` by plotting them one on top of the other."
   ]
  },
  {
   "cell_type": "markdown",
   "id": "b43f9859-2320-44cb-9817-4518de6c4801",
   "metadata": {
    "tags": []
   },
   "source": [
    "#### <font color=\"green\">Solution...</font>"
   ]
  },
  {
   "cell_type": "code",
   "execution_count": null,
   "id": "77d23ee6-65b6-47ee-b55f-f01d74d10437",
   "metadata": {
    "jupyter": {
     "source_hidden": true
    },
    "tags": []
   },
   "outputs": [],
   "source": [
    "lattice::xyplot(cbind(new_cases, new_cases_change))"
   ]
  },
  {
   "cell_type": "markdown",
   "id": "0bc2c811-9a2d-4267-bb4e-e29156ab3462",
   "metadata": {
    "tags": []
   },
   "source": [
    "Note that increases in cases are often the result of _sustained_ small growth."
   ]
  },
  {
   "cell_type": "markdown",
   "id": "2523d2ad-0a6e-4a92-a2b6-d03c2b75b38a",
   "metadata": {},
   "source": [
    "Create a stack bar chart relating new cases and new deaths."
   ]
  },
  {
   "cell_type": "markdown",
   "id": "6b5f6c5a-a756-4010-9ad2-2da0e4d54199",
   "metadata": {
    "tags": []
   },
   "source": [
    "#### <font color=\"green\">Solution...</font>"
   ]
  },
  {
   "cell_type": "code",
   "execution_count": null,
   "id": "3f748464-4fe0-4b81-a534-69380890eb7b",
   "metadata": {
    "jupyter": {
     "source_hidden": true
    },
    "tags": []
   },
   "outputs": [],
   "source": [
    "colors=c(\"red\", \"black\")\n",
    "covid <- merge(new_cases, new_deaths, all = FALSE)\n",
    "barplot(covid[\"2020-03::2020-04\"], col=colors)\n",
    "graphics::legend(\n",
    "  \"topleft\", \n",
    "  c(\"New deaths\", \"New cases\"), \n",
    "  col=rev(colors), \n",
    "  lwd=5\n",
    ")"
   ]
  },
  {
   "cell_type": "markdown",
   "id": "fb7d034e-45a1-49b8-87c0-eacbf4d366c7",
   "metadata": {},
   "source": [
    "## Visualize Amazon revenues"
   ]
  },
  {
   "cell_type": "markdown",
   "id": "271eaa07-c8af-414b-9b2c-a0a519e690f6",
   "metadata": {
    "tags": []
   },
   "source": [
    "Read the Amazon revenue data (`data/amazon_revenue.csv`) as `amazon_revenue_data`."
   ]
  },
  {
   "cell_type": "markdown",
   "id": "0fd24351-08ea-43cb-9fb8-3c260cbb5577",
   "metadata": {
    "tags": []
   },
   "source": [
    "#### <font color=\"green\">Solution...</font>"
   ]
  },
  {
   "cell_type": "code",
   "execution_count": null,
   "id": "3c4b8383-e3a8-437a-8f85-2fa26310f033",
   "metadata": {
    "tags": []
   },
   "outputs": [],
   "source": [
    "amazon_revenue_data <- read_csv(\"data/amazon_revenue.csv\")"
   ]
  },
  {
   "cell_type": "markdown",
   "id": "f5f133cb-9aab-427f-988a-54d08bf757dc",
   "metadata": {},
   "source": [
    "Review the data."
   ]
  },
  {
   "cell_type": "markdown",
   "id": "b3819c40-1a49-4ec1-bb9b-8758163e2f21",
   "metadata": {
    "tags": []
   },
   "source": [
    "#### <font color=\"green\">Solution...</font>"
   ]
  },
  {
   "cell_type": "code",
   "execution_count": null,
   "id": "2b62aa41-1f5c-4d48-8db8-9057c43be572",
   "metadata": {
    "jupyter": {
     "source_hidden": true
    },
    "tags": []
   },
   "outputs": [],
   "source": [
    "View(amazon_revenue_data)"
   ]
  },
  {
   "cell_type": "markdown",
   "id": "49791455-4dae-4f11-ac91-2a468244ba0b",
   "metadata": {},
   "source": [
    "This table contains quarterly revenue data for Amazon.\n",
    "\n",
    "Notably, it ends in Q3 2019---just before the pandemic."
   ]
  },
  {
   "cell_type": "markdown",
   "id": "fbd125ce-5c74-4491-9602-9c0204d8ac93",
   "metadata": {
    "tags": []
   },
   "source": [
    "Create an `xts` object called `amazon_revenue` from `revenue` indexed on `quarter`."
   ]
  },
  {
   "cell_type": "markdown",
   "id": "11013ced-2889-4f78-bb51-5535211cf6de",
   "metadata": {
    "tags": []
   },
   "source": [
    "#### <font color=\"green\">Solution...</font>"
   ]
  },
  {
   "cell_type": "code",
   "execution_count": null,
   "id": "b2c1eb4c-8360-4a9c-afc1-d42177694a7a",
   "metadata": {
    "jupyter": {
     "source_hidden": true
    },
    "tags": []
   },
   "outputs": [],
   "source": [
    "amazon_revenues <- xts(\n",
    "  amazon_revenue_data$revenue, \n",
    "  order.by=ym(amazon_revenue_data$quarter)\n",
    ")"
   ]
  },
  {
   "cell_type": "markdown",
   "id": "892877f3-a317-4369-aa95-0b9de6c289e6",
   "metadata": {},
   "source": [
    "Plot the revenue time series."
   ]
  },
  {
   "cell_type": "markdown",
   "id": "06e0434c-df09-48bf-ad3b-66e32693af67",
   "metadata": {
    "tags": []
   },
   "source": [
    "#### <font color=\"green\">Solution...</font>"
   ]
  },
  {
   "cell_type": "code",
   "execution_count": null,
   "id": "3a1cf800-3481-4dc8-ac9b-85b87b7f7ca8",
   "metadata": {
    "jupyter": {
     "source_hidden": true
    },
    "tags": []
   },
   "outputs": [],
   "source": [
    "plot(amazon_revenues)"
   ]
  },
  {
   "cell_type": "markdown",
   "id": "ebe4d766-0075-4719-b594-18b626add802",
   "metadata": {},
   "source": [
    "Calculate the rate of change for the revenue (assigning it to `amazon_revenue_change`)."
   ]
  },
  {
   "cell_type": "markdown",
   "id": "ff99967b-6177-4a42-b18c-1f749adde2c4",
   "metadata": {
    "tags": []
   },
   "source": [
    "#### <font color=\"green\">Solution...</font>"
   ]
  },
  {
   "cell_type": "code",
   "execution_count": null,
   "id": "9ddc8639-03bc-4d87-93ef-b79759d3ff54",
   "metadata": {
    "jupyter": {
     "source_hidden": true
    },
    "tags": []
   },
   "outputs": [],
   "source": [
    "amazon_revenue_change <- ROC(amazon_revenues)"
   ]
  },
  {
   "cell_type": "markdown",
   "id": "cae26b64-57b2-439a-a9b6-13869724f55a",
   "metadata": {},
   "source": [
    "Plot revenues above revenue change for comparison."
   ]
  },
  {
   "cell_type": "markdown",
   "id": "64c6b4f7-1f14-4fb1-bd60-93f1a95f97ee",
   "metadata": {
    "tags": []
   },
   "source": [
    "#### <font color=\"green\">Solution...</font>"
   ]
  },
  {
   "cell_type": "code",
   "execution_count": null,
   "id": "8100bbaf-9e1e-4555-b904-c5f66a8bb967",
   "metadata": {
    "jupyter": {
     "source_hidden": true
    },
    "tags": []
   },
   "outputs": [],
   "source": [
    "lattice::xyplot(cbind(amazon_revenues, amazon_revenue_change))"
   ]
  },
  {
   "cell_type": "markdown",
   "id": "78c037c2-07cc-47d6-bd3f-4e78750de2c5",
   "metadata": {},
   "source": [
    "Growth slows in the later years. If you look closely at the revenue data, is appears to be flattening out.\n",
    "\n",
    "The rate of change chart makes it much easier to see this."
   ]
  },
  {
   "cell_type": "markdown",
   "id": "4f722fde-f3e5-4e3f-867a-27c5456502c7",
   "metadata": {},
   "source": [
    "Display a histogram of rate of change.\n",
    "\n",
    "Overlay a density plot."
   ]
  },
  {
   "cell_type": "markdown",
   "id": "c012d44e-7fda-4550-b3c6-a1b02f2e2447",
   "metadata": {
    "tags": []
   },
   "source": [
    "#### <font color=\"green\">Solution...</font>"
   ]
  },
  {
   "cell_type": "code",
   "execution_count": null,
   "id": "666cf33c-f801-453b-85da-8d66f59b406d",
   "metadata": {
    "jupyter": {
     "source_hidden": true
    },
    "tags": []
   },
   "outputs": [],
   "source": [
    "hist(amazon_revenue_change)\n",
    "d <- density(amazon_revenue_change, na.rm=TRUE)\n",
    "lines(d, col = \"red\", lwd = 2)"
   ]
  },
  {
   "cell_type": "markdown",
   "id": "cde23b73-f684-4363-8046-7c61608a48db",
   "metadata": {},
   "source": [
    "Cleary there's more positive change than negative change."
   ]
  },
  {
   "cell_type": "markdown",
   "id": "8c76df99-89cb-4dfc-9bf4-f26594469768",
   "metadata": {},
   "source": [
    "Calculate an autocorrelation plot of the rate of change."
   ]
  },
  {
   "cell_type": "markdown",
   "id": "015e5ad8-313a-4dfd-b814-2073b8efb311",
   "metadata": {
    "tags": []
   },
   "source": [
    "#### <font color=\"green\">Solution...</font>"
   ]
  },
  {
   "cell_type": "code",
   "execution_count": null,
   "id": "abf1e1c1-8bd7-48b3-a16f-30564bcae14f",
   "metadata": {
    "jupyter": {
     "source_hidden": true
    },
    "tags": []
   },
   "outputs": [],
   "source": [
    "Acf(\n",
    "  amazon_revenue_change, \n",
    "  na.action = na.pass, \n",
    "  main = \"Amazon returns ACF\"\n",
    ")"
   ]
  },
  {
   "cell_type": "markdown",
   "id": "048091b6-8924-403a-a575-ac1bcb7d934e",
   "metadata": {},
   "source": [
    "The seasonality of the data (4 periods) is apparent."
   ]
  },
  {
   "cell_type": "markdown",
   "id": "35a6fdf2-98db-46e4-88ed-fbb7434aa374",
   "metadata": {},
   "source": [
    "Decompose the _revenue_ data into its components and plot them."
   ]
  },
  {
   "cell_type": "markdown",
   "id": "22b259f4-6ead-496d-ae32-7e4067cde7f1",
   "metadata": {
    "tags": []
   },
   "source": [
    "#### <font color=\"green\">Solution...</font>"
   ]
  },
  {
   "cell_type": "code",
   "execution_count": null,
   "id": "e867de7f-3d8c-4a1d-bfdd-a5e927227364",
   "metadata": {
    "jupyter": {
     "source_hidden": true
    },
    "tags": []
   },
   "outputs": [],
   "source": [
    "decomposition <- decompose(ts(amazon_revenues, frequency = 4))\n",
    "plot(decomposition)"
   ]
  },
  {
   "cell_type": "markdown",
   "id": "3f7eb4af-b6e4-4149-9b90-b141ffe5f002",
   "metadata": {},
   "source": [
    "## Visualize tech stocks"
   ]
  },
  {
   "cell_type": "markdown",
   "id": "f60d135a-689f-42d2-867b-85c0a3c2cd09",
   "metadata": {
    "tags": []
   },
   "source": [
    "Read the tech stock data (`data/tech_stocks.csv`) as `tech_stock_data`."
   ]
  },
  {
   "cell_type": "markdown",
   "id": "24cb695e-6b8f-4404-bd2c-200d22572bce",
   "metadata": {
    "tags": []
   },
   "source": [
    "#### <font color=\"green\">Solution...</font>"
   ]
  },
  {
   "cell_type": "code",
   "execution_count": null,
   "id": "1880510d-33e8-4a02-87ee-1df0a7de3e54",
   "metadata": {
    "jupyter": {
     "source_hidden": true
    },
    "tags": []
   },
   "outputs": [],
   "source": [
    "tech_stock_data <- read_csv(\"data/tech_stocks.csv\")"
   ]
  },
  {
   "cell_type": "markdown",
   "id": "2ddcdc55-cb4c-4bec-93d5-2b9f3f6aa446",
   "metadata": {},
   "source": [
    "Review the data."
   ]
  },
  {
   "cell_type": "markdown",
   "id": "2d7ef3d0-847b-49ac-8a3e-bd6004e22639",
   "metadata": {
    "tags": []
   },
   "source": [
    "#### <font color=\"green\">Solution...</font>"
   ]
  },
  {
   "cell_type": "code",
   "execution_count": null,
   "id": "5b077d55-5178-4fb2-965e-d68a00d8779b",
   "metadata": {
    "jupyter": {
     "source_hidden": true
    },
    "tags": []
   },
   "outputs": [],
   "source": [
    "View(tech_stock_data)"
   ]
  },
  {
   "cell_type": "markdown",
   "id": "1c9fd6ed-a090-4b2d-9526-2117e15f363d",
   "metadata": {},
   "source": [
    "This data contains the daily closing prices of 8 well-known tech stocks."
   ]
  },
  {
   "cell_type": "markdown",
   "id": "b850044c-f899-4676-9785-81a621053631",
   "metadata": {
    "tags": []
   },
   "source": [
    "Create an `xts` object called `tech_stocks` from the data indexed on `date`."
   ]
  },
  {
   "cell_type": "markdown",
   "id": "f617654d-43b2-4080-a75f-d6aa156b7d83",
   "metadata": {
    "tags": []
   },
   "source": [
    "#### <font color=\"green\">Solution...</font>"
   ]
  },
  {
   "cell_type": "code",
   "execution_count": null,
   "id": "cb5f37c0-193c-47a8-b18c-bd870e38b279",
   "metadata": {
    "jupyter": {
     "source_hidden": true
    },
    "tags": []
   },
   "outputs": [],
   "source": [
    "tech_stocks <- xts(\n",
    "  select(tech_stock_data, -date), \n",
    "  order.by = ymd(tech_stock_data$date)\n",
    ")"
   ]
  },
  {
   "cell_type": "markdown",
   "id": "fcdbe4c5-307a-4de6-848f-ad5ca2560b65",
   "metadata": {},
   "source": [
    "Plot the tech_stocks."
   ]
  },
  {
   "cell_type": "markdown",
   "id": "1ff1e853-f26f-43a3-a263-be4ee8fe4065",
   "metadata": {
    "tags": []
   },
   "source": [
    "#### <font color=\"green\">Solution...</font>"
   ]
  },
  {
   "cell_type": "code",
   "execution_count": null,
   "id": "3989d667-70a5-4c57-ba9a-046648c57462",
   "metadata": {
    "jupyter": {
     "source_hidden": true
    },
    "tags": []
   },
   "outputs": [],
   "source": [
    "plot(tech_stocks)"
   ]
  },
  {
   "cell_type": "markdown",
   "id": "2dc15394-2848-49b9-bedf-b405c78f2612",
   "metadata": {},
   "source": [
    "IBM is much older than the other companies, compressing the data to the right.\n",
    "\n",
    "Display the data from 1995 onwards."
   ]
  },
  {
   "cell_type": "markdown",
   "id": "e1384cc5-aefc-4b44-9ab1-6fa7cf87ea5a",
   "metadata": {
    "tags": []
   },
   "source": [
    "#### <font color=\"green\">Solution...</font>"
   ]
  },
  {
   "cell_type": "code",
   "execution_count": null,
   "id": "d9d167e2-f868-42a1-8275-f63860db7366",
   "metadata": {
    "jupyter": {
     "source_hidden": true
    },
    "tags": []
   },
   "outputs": [],
   "source": [
    "plot(tech_stocks[\"1995/\"])"
   ]
  },
  {
   "cell_type": "markdown",
   "id": "b7574348-4d8a-4384-9226-d1bfec2a0eaa",
   "metadata": {},
   "source": [
    "Calculate the returns for the stocks (i.e. rate of change) and assign to `tech_stock_returns`."
   ]
  },
  {
   "cell_type": "markdown",
   "id": "3d53100b-6c18-4861-92e1-a5198b2c7c9b",
   "metadata": {
    "tags": []
   },
   "source": [
    "#### <font color=\"green\">Solution...</font>"
   ]
  },
  {
   "cell_type": "code",
   "execution_count": null,
   "id": "a0183bbf-9ee7-4b7b-aa4c-602374891f2f",
   "metadata": {
    "jupyter": {
     "source_hidden": true
    },
    "tags": []
   },
   "outputs": [],
   "source": [
    "tech_stock_returns <- ROC(tech_stocks)"
   ]
  },
  {
   "cell_type": "markdown",
   "id": "b138e38b-4a61-4f4f-9f19-11f43a675a68",
   "metadata": {},
   "source": [
    "Create a boxplot comparing Apple and IBM returns."
   ]
  },
  {
   "cell_type": "markdown",
   "id": "5b006248-0f8a-4c58-a42f-fbe7bd415854",
   "metadata": {
    "tags": []
   },
   "source": [
    "#### <font color=\"green\">Solution...</font>"
   ]
  },
  {
   "cell_type": "code",
   "execution_count": null,
   "id": "f9b2b08d-0ce2-4243-a683-e8ccdecf106e",
   "metadata": {
    "jupyter": {
     "source_hidden": true
    },
    "tags": []
   },
   "outputs": [],
   "source": [
    "boxplot(\n",
    "  cbind(tech_stock_returns$aapl, tech_stock_returns$ibm), \n",
    "  horizontal = TRUE, \n",
    "  col = \"red\"\n",
    ")"
   ]
  },
  {
   "cell_type": "markdown",
   "id": "089d9ab7-c943-40c0-b9e2-ab5347a3a5c2",
   "metadata": {},
   "source": [
    "Apple appears to be the more volatile stock."
   ]
  },
  {
   "cell_type": "markdown",
   "id": "6fd06bb9-145a-48b1-86a7-581d6c23af41",
   "metadata": {},
   "source": [
    "Calculate an autocorrelation plot of IBM stock returns."
   ]
  },
  {
   "cell_type": "markdown",
   "id": "0072eac9-e170-4d53-bf35-fbe25aa0e34c",
   "metadata": {
    "tags": []
   },
   "source": [
    "#### <font color=\"green\">Solution...</font>"
   ]
  },
  {
   "cell_type": "code",
   "execution_count": null,
   "id": "8afcf6dd-c422-453f-9117-5701c142a646",
   "metadata": {
    "jupyter": {
     "source_hidden": true
    },
    "tags": []
   },
   "outputs": [],
   "source": [
    "Acf(\n",
    "  tech_stock_returns$ibm, \n",
    "  na.action = na.pass, \n",
    "  main = \"IBM returns ACF\"\n",
    ")"
   ]
  },
  {
   "cell_type": "markdown",
   "id": "bd6c211c-8ae3-48b2-92d0-86533fd36699",
   "metadata": {},
   "source": [
    "Are there any obvious patterns?"
   ]
  },
  {
   "cell_type": "markdown",
   "id": "5fda309e-6795-4721-bab7-fe6dc804b7d4",
   "metadata": {},
   "source": [
    "Assess the IBM returns for normality using a Q-Q plot."
   ]
  },
  {
   "cell_type": "markdown",
   "id": "33071afe-02ad-4376-acc4-3fef0b1b6291",
   "metadata": {
    "tags": []
   },
   "source": [
    "#### <font color=\"green\">Solution...</font>"
   ]
  },
  {
   "cell_type": "code",
   "execution_count": null,
   "id": "2fd97440-b49c-4294-be83-188efc05c34a",
   "metadata": {
    "jupyter": {
     "source_hidden": true
    },
    "tags": []
   },
   "outputs": [],
   "source": [
    "qqnorm(tech_stock_returns$ibm, main = \"IBM returns Q-Q plot\")\n",
    "qqline(tech_stock_returns$ibm, col = \"red\")"
   ]
  },
  {
   "cell_type": "markdown",
   "id": "b6d6736c-de60-4bb9-a5f3-b3b6ff9e8c0e",
   "metadata": {},
   "source": [
    "Plot IBM returns against Microsoft returns and fit a regression line."
   ]
  },
  {
   "cell_type": "markdown",
   "id": "a9a7d517-3525-45fe-ab2b-bc513a547f69",
   "metadata": {
    "tags": []
   },
   "source": [
    "#### <font color=\"green\">Solution...</font>"
   ]
  },
  {
   "cell_type": "code",
   "execution_count": null,
   "id": "1aac767d-90cc-497b-826b-fd92163ce66b",
   "metadata": {
    "jupyter": {
     "source_hidden": true
    },
    "tags": []
   },
   "outputs": [],
   "source": [
    "plot(coredata(tech_stock_returns[, c(\"ibm\", \"msft\")]))\n",
    "abline(\n",
    "  reg=lm(tech_stock_returns$ibm ~ tech_stock_returns$msft), \n",
    "  col=\"red\", \n",
    "  lwd=2\n",
    ")"
   ]
  },
  {
   "cell_type": "markdown",
   "id": "db456d3f-5c3e-4d2e-9356-96dcd21427a4",
   "metadata": {},
   "source": [
    "Do they appear highly correlated?"
   ]
  },
  {
   "cell_type": "markdown",
   "id": "010616c7-a452-41b3-a317-153068d5b7d9",
   "metadata": {},
   "source": [
    "Visualize pairwise scatter plots of all the tech stock returns."
   ]
  },
  {
   "cell_type": "markdown",
   "id": "0e8e8eea-c5d5-4580-8826-32a149aa19fc",
   "metadata": {
    "tags": []
   },
   "source": [
    "#### <font color=\"green\">Solution...</font>"
   ]
  },
  {
   "cell_type": "code",
   "execution_count": null,
   "id": "1eabf6d0-5308-405c-bd5d-8d03c983e3c3",
   "metadata": {
    "jupyter": {
     "source_hidden": true
    },
    "tags": []
   },
   "outputs": [],
   "source": [
    "pairs(coredata(tech_stock_returns))"
   ]
  },
  {
   "cell_type": "markdown",
   "id": "0248232e-368f-4515-b4e1-b4421c57e3eb",
   "metadata": {
    "tags": []
   },
   "source": [
    "Calculate the pairwise correlation matrix for the stocks. Assign it to `tech_stock_correlations`."
   ]
  },
  {
   "cell_type": "markdown",
   "id": "0b0c18bd-d034-4e7c-b566-135f2056ca5d",
   "metadata": {
    "tags": []
   },
   "source": [
    "#### <font color=\"green\">Solution...</font>"
   ]
  },
  {
   "cell_type": "code",
   "execution_count": null,
   "id": "8ce329a3-a05c-4aeb-bbf6-d0607ffc60c4",
   "metadata": {
    "jupyter": {
     "source_hidden": true
    },
    "tags": []
   },
   "outputs": [],
   "source": [
    "tech_stock_correlations <- cor(\n",
    "  coredata(tech_stock_returns), \n",
    "  use = \"pairwise.complete.obs\"\n",
    ")"
   ]
  },
  {
   "cell_type": "markdown",
   "id": "95c2de6d-acee-4101-92c0-7b9791156717",
   "metadata": {},
   "source": [
    "View the correlations."
   ]
  },
  {
   "cell_type": "markdown",
   "id": "6b05376c-ad9f-4769-aeac-db29bac0322a",
   "metadata": {
    "tags": []
   },
   "source": [
    "#### <font color=\"green\">Solution...</font>"
   ]
  },
  {
   "cell_type": "code",
   "execution_count": null,
   "id": "01a4044e-1934-4088-bc0c-33a342e11229",
   "metadata": {
    "jupyter": {
     "source_hidden": true
    },
    "tags": []
   },
   "outputs": [],
   "source": [
    "View(tech_stock_correlation)"
   ]
  },
  {
   "cell_type": "markdown",
   "id": "1753f70e-5bc8-4b32-a1b3-d2be7237e08d",
   "metadata": {},
   "source": [
    "Visualize the correlation matrix."
   ]
  },
  {
   "cell_type": "markdown",
   "id": "75c42eb7-f0a0-4a76-8413-cfa7938b0a19",
   "metadata": {
    "tags": []
   },
   "source": [
    "#### <font color=\"green\">Solution...</font>"
   ]
  },
  {
   "cell_type": "code",
   "execution_count": null,
   "id": "e071098a-97b4-43cb-898f-5d3801c5749d",
   "metadata": {
    "jupyter": {
     "source_hidden": true
    },
    "tags": []
   },
   "outputs": [],
   "source": [
    "corrplot(tech_stock_correlations)"
   ]
  },
  {
   "cell_type": "markdown",
   "id": "5c25f2f9-5266-41b7-89b4-287d52194d49",
   "metadata": {},
   "source": [
    "Visualize the correlation matrix as a heatmap."
   ]
  },
  {
   "cell_type": "markdown",
   "id": "a3ab7d62-27ed-404e-be01-ec8189daef25",
   "metadata": {
    "tags": []
   },
   "source": [
    "#### <font color=\"green\">Solution...</font>"
   ]
  },
  {
   "cell_type": "code",
   "execution_count": null,
   "id": "52825c21-6197-4c57-bd99-45ff5bc574c5",
   "metadata": {
    "jupyter": {
     "source_hidden": true
    },
    "tags": []
   },
   "outputs": [],
   "source": [
    "corrplot(tech_stock_correlations, method = \"color\", type = \"upper\")"
   ]
  },
  {
   "cell_type": "markdown",
   "id": "81983508-7943-46cb-8fd7-70aa0226dc6f",
   "metadata": {
    "tags": []
   },
   "source": [
    "## Congratulations!"
   ]
  },
  {
   "cell_type": "markdown",
   "id": "a501147b-84d3-43cb-bcd4-9fba0a149646",
   "metadata": {},
   "source": [
    "You have successfully visualized time series data in R."
   ]
  }
 ],
 "metadata": {
  "kernelspec": {
   "display_name": "R",
   "language": "R",
   "name": "ir"
  },
  "language_info": {
   "codemirror_mode": "r",
   "file_extension": ".r",
   "mimetype": "text/x-r-source",
   "name": "R",
   "pygments_lexer": "r",
   "version": "4.1.2"
  }
 },
 "nbformat": 4,
 "nbformat_minor": 5
}
