{
 "cells": [
  {
   "cell_type": "markdown",
   "id": "9a39370b-862f-4905-9f17-a63b6a7e71b3",
   "metadata": {},
   "source": [
    "# Hands-On Exercise 3.1: Working with Time Series"
   ]
  },
  {
   "cell_type": "markdown",
   "id": "9d28734d-fd0d-4510-bead-bae71de4bd16",
   "metadata": {},
   "source": [
    "## Objectives"
   ]
  },
  {
   "cell_type": "markdown",
   "id": "34e154fd-71a0-4863-a863-c805c90ee008",
   "metadata": {},
   "source": [
    "In this exercise, you will learn how to manipulate time series in R."
   ]
  },
  {
   "cell_type": "markdown",
   "id": "e773d1c9-7c7a-4ab2-8d00-0225817e0f3e",
   "metadata": {},
   "source": [
    "## Overview"
   ]
  },
  {
   "cell_type": "markdown",
   "id": "3658e749-d20b-4266-839c-934c149531ed",
   "metadata": {},
   "source": [
    "You will use the `xts` package (along with others) to load, view, summarize and analyze two time series.\n",
    "\n",
    "- Oil prices\n",
    "- COVID cases and deaths"
   ]
  },
  {
   "cell_type": "markdown",
   "id": "e7cb31d3-67c3-42ef-b52f-f5f29c0de408",
   "metadata": {},
   "source": [
    "## Load libraries"
   ]
  },
  {
   "cell_type": "markdown",
   "id": "2a28e5df-bc50-481b-a77c-c5e6cae27497",
   "metadata": {},
   "source": [
    "Load the libraries you'll be using in this exercise."
   ]
  },
  {
   "cell_type": "code",
   "execution_count": null,
   "id": "d6c81ea6-92f4-4382-a093-80177be81c3c",
   "metadata": {},
   "outputs": [],
   "source": [
    "library(dplyr)\n",
    "library(lubridate)\n",
    "library(readr)\n",
    "library(TTR)\n",
    "library(xts)"
   ]
  },
  {
   "cell_type": "markdown",
   "id": "161c8b44-b7f7-49d3-86cd-4251a56886b3",
   "metadata": {},
   "source": [
    "## Analyze oil prices"
   ]
  },
  {
   "cell_type": "markdown",
   "id": "cb5b0f46-4735-45fa-855d-68bbff8cebca",
   "metadata": {},
   "source": [
    "In RStudio, create a new script (e.g. `Ex31.R`). Add commands to the file according to the instructions that follow in this exercise, and execute each command as you move through the steps."
   ]
  },
  {
   "cell_type": "markdown",
   "id": "01edd245-9ac7-40f7-b862-716ccc04b317",
   "metadata": {},
   "source": [
    "Read the oil price data (`data/brent_spot_price.csv`) as `oil_price_data`."
   ]
  },
  {
   "cell_type": "markdown",
   "id": "7c167e85-b1be-4b00-b31b-fee702e870d1",
   "metadata": {},
   "source": [
    "<font color=\"red\">**Set the working directory to the course root folder using `setwd(\"/home/user/course/\")`.**</font>"
   ]
  },
  {
   "cell_type": "markdown",
   "id": "71a91919-712e-4342-b34e-36a74f36e4a0",
   "metadata": {
    "tags": []
   },
   "source": [
    "#### <font color=\"green\">Solution...</font>"
   ]
  },
  {
   "cell_type": "code",
   "execution_count": null,
   "id": "0c0967fb-d363-44e3-a361-5a9c3b20096d",
   "metadata": {
    "jupyter": {
     "source_hidden": true
    },
    "tags": []
   },
   "outputs": [],
   "source": [
    "oil_price_data <- read_csv(\"data/brent_spot_price.csv\")"
   ]
  },
  {
   "cell_type": "markdown",
   "id": "ebc6f48b-41ac-4b7d-bf05-3ac63a78d862",
   "metadata": {},
   "source": [
    "Review the data."
   ]
  },
  {
   "cell_type": "markdown",
   "id": "fff5c4c4-2ce7-4de8-bc52-e95f4dd024a5",
   "metadata": {
    "tags": []
   },
   "source": [
    "#### <font color=\"green\">Solution...</font>"
   ]
  },
  {
   "cell_type": "code",
   "execution_count": null,
   "id": "fbdaceaa-2c18-49f8-bd5f-f396efa29b59",
   "metadata": {
    "jupyter": {
     "source_hidden": true
    },
    "tags": []
   },
   "outputs": [],
   "source": [
    "View(oil_price_data)"
   ]
  },
  {
   "cell_type": "markdown",
   "id": "830f2a9f-bccb-4215-bb7a-19eb156c12db",
   "metadata": {},
   "source": [
    "Create an `xts` object (`oil_prices`) from `price` indexed on `month`."
   ]
  },
  {
   "cell_type": "markdown",
   "id": "0fcaabe3-cc4d-45a3-ad5a-988b883d2e4f",
   "metadata": {
    "tags": []
   },
   "source": [
    "#### <font color=\"green\">Solution...</font>"
   ]
  },
  {
   "cell_type": "code",
   "execution_count": null,
   "id": "f14f04ec-9cbb-42e4-a27b-77ca05260dc2",
   "metadata": {
    "jupyter": {
     "source_hidden": true
    },
    "tags": []
   },
   "outputs": [],
   "source": [
    "oil_prices <- xts(oil_price_data$price, order.by=ym(oil_price_data$month))"
   ]
  },
  {
   "cell_type": "markdown",
   "id": "de6cef36-a39e-49f9-8879-d5d5651a46af",
   "metadata": {},
   "source": [
    "Examine the `oil_prices` object."
   ]
  },
  {
   "cell_type": "markdown",
   "id": "02bc9d9b-a140-44f1-8173-fec74d503535",
   "metadata": {
    "tags": []
   },
   "source": [
    "#### <font color=\"green\">Solution...</font>"
   ]
  },
  {
   "cell_type": "code",
   "execution_count": null,
   "id": "43ef94c9-51b6-49a3-bafa-21a006202cc7",
   "metadata": {
    "jupyter": {
     "source_hidden": true
    },
    "tags": []
   },
   "outputs": [],
   "source": [
    "str(oil_prices)"
   ]
  },
  {
   "cell_type": "markdown",
   "id": "e7d15f94-aec7-431e-84d9-f196a09d8b79",
   "metadata": {},
   "source": [
    "How many data points are there?"
   ]
  },
  {
   "cell_type": "markdown",
   "id": "1ebf9d84-9403-4bd8-a9ed-7f4530be4a59",
   "metadata": {
    "tags": []
   },
   "source": [
    "#### <font color=\"green\">Solution...</font>"
   ]
  },
  {
   "cell_type": "markdown",
   "id": "ff5599d8-8b55-4159-8cab-c983d70879af",
   "metadata": {
    "jupyter": {
     "source_hidden": true
    },
    "tags": []
   },
   "source": [
    "396"
   ]
  },
  {
   "cell_type": "markdown",
   "id": "7f88a4ef-a747-418f-8843-631fd13eafe6",
   "metadata": {
    "tags": []
   },
   "source": [
    "Examine the `head` and `tail` of the time series."
   ]
  },
  {
   "cell_type": "markdown",
   "id": "99563ba5-626b-4ca8-87ea-7c7cff556603",
   "metadata": {
    "tags": []
   },
   "source": [
    "#### <font color=\"green\">Solution...</font>"
   ]
  },
  {
   "cell_type": "code",
   "execution_count": null,
   "id": "dfc1e1d1-9d75-4b17-a629-12385de71b17",
   "metadata": {
    "jupyter": {
     "source_hidden": true
    },
    "tags": []
   },
   "outputs": [],
   "source": [
    "head(oil_prices)\n",
    "tail(oil_prices)"
   ]
  },
  {
   "cell_type": "markdown",
   "id": "27c75ec6-aec7-427a-9026-d8e1c099f603",
   "metadata": {},
   "source": [
    "Plot the time series."
   ]
  },
  {
   "cell_type": "markdown",
   "id": "cc73d196-759d-49c0-9a8a-c6ebcec9c5c0",
   "metadata": {
    "tags": []
   },
   "source": [
    "#### <font color=\"green\">Solution...</font>"
   ]
  },
  {
   "cell_type": "code",
   "execution_count": null,
   "id": "66854abb-98b3-4873-9f68-2bbf49c53ac8",
   "metadata": {
    "jupyter": {
     "source_hidden": true
    },
    "tags": []
   },
   "outputs": [],
   "source": [
    "plot(oil_prices)"
   ]
  },
  {
   "cell_type": "markdown",
   "id": "8f8767df-a6ae-4fc1-9615-8696e483ea98",
   "metadata": {},
   "source": [
    "Extract the prices for the year 2000."
   ]
  },
  {
   "cell_type": "markdown",
   "id": "3b567ed7-c381-4134-940d-c8897b73da0f",
   "metadata": {
    "tags": []
   },
   "source": [
    "#### <font color=\"green\">Solution...</font>"
   ]
  },
  {
   "cell_type": "code",
   "execution_count": null,
   "id": "e342dd16-e736-40ae-9fba-0f581d65085b",
   "metadata": {
    "jupyter": {
     "source_hidden": true
    },
    "tags": []
   },
   "outputs": [],
   "source": [
    "oil_prices[\"2000\"]"
   ]
  },
  {
   "cell_type": "markdown",
   "id": "730472f1-473b-4b06-955b-97f2a2fd733d",
   "metadata": {},
   "source": [
    "Extract the prices for the years 2000 through 2005."
   ]
  },
  {
   "cell_type": "markdown",
   "id": "00f1887c-4842-4c9a-9982-91d1584bfe66",
   "metadata": {
    "tags": []
   },
   "source": [
    "#### <font color=\"green\">Solution...</font>"
   ]
  },
  {
   "cell_type": "code",
   "execution_count": null,
   "id": "b33d810a-bb24-43ee-8f70-6980f87366ef",
   "metadata": {
    "jupyter": {
     "source_hidden": true
    },
    "tags": []
   },
   "outputs": [],
   "source": [
    "oil_prices[\"2000/2005\"]"
   ]
  },
  {
   "cell_type": "markdown",
   "id": "98e21aa0-8367-43e0-bf09-b6ad2416169a",
   "metadata": {},
   "source": [
    "Extract the prices for the years 2020 onwards."
   ]
  },
  {
   "cell_type": "markdown",
   "id": "6cda4f9d-66c2-4df3-ad88-0e4f76b0b0fd",
   "metadata": {
    "tags": []
   },
   "source": [
    "#### <font color=\"green\">Solution...</font>"
   ]
  },
  {
   "cell_type": "code",
   "execution_count": null,
   "id": "57566f74-7cda-4d4d-92ae-02f983e5c3f1",
   "metadata": {
    "jupyter": {
     "source_hidden": true
    },
    "tags": []
   },
   "outputs": [],
   "source": [
    "oil_prices[\"2020/\"]"
   ]
  },
  {
   "cell_type": "markdown",
   "id": "3af44b87-bd20-48e5-9b2c-2163ef0d3597",
   "metadata": {},
   "source": [
    "Extract prices for the 1990s and 2010s. Store them in `oil_prices_1990s` and `oil_prices_2010s`, respectively."
   ]
  },
  {
   "cell_type": "markdown",
   "id": "1b868121-8686-48f2-8989-b762cd34e608",
   "metadata": {
    "tags": []
   },
   "source": [
    "#### <font color=\"green\">Solution...</font>"
   ]
  },
  {
   "cell_type": "code",
   "execution_count": null,
   "id": "5b618e5b-de87-4903-bff1-9e44a56fa7b9",
   "metadata": {
    "jupyter": {
     "source_hidden": true
    },
    "tags": []
   },
   "outputs": [],
   "source": [
    "oil_prices_1990s <- oil_prices[\"1990/1999\"]\n",
    "oil_prices_2010s <- oil_prices[\"2010/2019\"]"
   ]
  },
  {
   "cell_type": "markdown",
   "id": "191beed5-c433-435e-a161-e6ab29a517f9",
   "metadata": {},
   "source": [
    "Show the prices for the first three periods."
   ]
  },
  {
   "cell_type": "markdown",
   "id": "faed60b8-4147-4f12-acc8-28117531b803",
   "metadata": {
    "tags": []
   },
   "source": [
    "#### <font color=\"green\">Solution...</font>"
   ]
  },
  {
   "cell_type": "code",
   "execution_count": null,
   "id": "9a6e6a59-49ff-46d1-bba4-5d34a0088e26",
   "metadata": {
    "jupyter": {
     "source_hidden": true
    },
    "tags": []
   },
   "outputs": [],
   "source": [
    "xts::first(oil_prices, 3)"
   ]
  },
  {
   "cell_type": "markdown",
   "id": "8b929fb7-630f-4254-a701-ef96c4dafff7",
   "metadata": {},
   "source": [
    "Show the prices for the first two *years*."
   ]
  },
  {
   "cell_type": "markdown",
   "id": "a2177797-685d-4765-a733-f6857bea2578",
   "metadata": {
    "tags": []
   },
   "source": [
    "#### <font color=\"green\">Solution...</font>"
   ]
  },
  {
   "cell_type": "code",
   "execution_count": null,
   "id": "9c88d494-34cc-4274-b1cf-fad98fd242a3",
   "metadata": {
    "jupyter": {
     "source_hidden": true
    },
    "tags": []
   },
   "outputs": [],
   "source": [
    "xts::first(oil_prices, \"2 years\")"
   ]
  },
  {
   "cell_type": "markdown",
   "id": "621aac3e-7fcc-432e-b54d-c185b94c993e",
   "metadata": {},
   "source": [
    "Make a copy of `oil_prices` called `tmp`. Remove the prices for 1991 (i.e set them to `NA`)."
   ]
  },
  {
   "cell_type": "markdown",
   "id": "8e7c14e1-4551-49a3-9686-19a8afc3348a",
   "metadata": {
    "tags": []
   },
   "source": [
    "#### <font color=\"green\">Solution...</font>"
   ]
  },
  {
   "cell_type": "code",
   "execution_count": null,
   "id": "4bb61bad-035f-49d9-9112-61ee0ca32d45",
   "metadata": {
    "jupyter": {
     "source_hidden": true
    },
    "tags": []
   },
   "outputs": [],
   "source": [
    "tmp <- oil_prices\n",
    "tmp[\"1991\"] <- NA"
   ]
  },
  {
   "cell_type": "markdown",
   "id": "6f2fa0cb-166b-490a-891f-053c87fbd981",
   "metadata": {},
   "source": [
    "View `tmp`."
   ]
  },
  {
   "cell_type": "markdown",
   "id": "7cf0fc11-88a1-4c94-a802-654eb3029fd0",
   "metadata": {
    "tags": []
   },
   "source": [
    "#### <font color=\"green\">Solution...</font>"
   ]
  },
  {
   "cell_type": "code",
   "execution_count": null,
   "id": "8c63ad9b-224f-49a4-9445-962c6174af08",
   "metadata": {
    "jupyter": {
     "source_hidden": true
    },
    "tags": []
   },
   "outputs": [],
   "source": [
    "View(tmp)"
   ]
  },
  {
   "cell_type": "markdown",
   "id": "831253da-844a-49a6-b049-0d023e9c4265",
   "metadata": {},
   "source": [
    "Forward fill the 1991 prices using the last value from 1990."
   ]
  },
  {
   "cell_type": "markdown",
   "id": "4a3bee91-e924-40db-939b-c06c283e0bbd",
   "metadata": {
    "tags": []
   },
   "source": [
    "#### <font color=\"green\">Solution...</font>"
   ]
  },
  {
   "cell_type": "code",
   "execution_count": null,
   "id": "b80c39ab-3c2d-4f16-b8f3-508956b522bb",
   "metadata": {
    "jupyter": {
     "source_hidden": true
    },
    "tags": []
   },
   "outputs": [],
   "source": [
    "na.locf(tmp)"
   ]
  },
  {
   "cell_type": "markdown",
   "id": "d46faa6a-e9cb-457a-a868-fb4806c24022",
   "metadata": {},
   "source": [
    "Interpolate the missing 1991 values."
   ]
  },
  {
   "cell_type": "markdown",
   "id": "71080645-9ffb-4ba7-b54e-bf8b9c8b0952",
   "metadata": {
    "tags": []
   },
   "source": [
    "#### <font color=\"green\">Solution...</font>"
   ]
  },
  {
   "cell_type": "code",
   "execution_count": null,
   "id": "8fcde4b8-bd39-4540-8d0d-2ca7c22e270c",
   "metadata": {
    "jupyter": {
     "source_hidden": true
    },
    "tags": []
   },
   "outputs": [],
   "source": [
    "na.approx(tmp)"
   ]
  },
  {
   "cell_type": "markdown",
   "id": "02d968ea-ba79-44e0-aadf-afa238363282",
   "metadata": {},
   "source": [
    "Combine the values for the 1990s (`oil_prices_1990s`) and 2010s (`oil_prices_2010s`)."
   ]
  },
  {
   "cell_type": "markdown",
   "id": "5d6d42ab-f0fb-497e-a355-bee028d4f081",
   "metadata": {
    "tags": []
   },
   "source": [
    "#### <font color=\"green\">Solution...</font>"
   ]
  },
  {
   "cell_type": "code",
   "execution_count": null,
   "id": "5b55a8e4-92b4-4bf7-8115-8e1d7291d23c",
   "metadata": {
    "jupyter": {
     "source_hidden": true
    },
    "tags": []
   },
   "outputs": [],
   "source": [
    "rbind(oil_prices_2010s, oil_prices_1990s)"
   ]
  },
  {
   "cell_type": "markdown",
   "id": "7b24b71d-84fe-4f48-abb3-fa41efafae85",
   "metadata": {},
   "source": [
    "Note that the order doesn't matter. The data is lined up correctly."
   ]
  },
  {
   "cell_type": "markdown",
   "id": "0e2ee782-93e4-4855-b3b0-d02fd1d732d1",
   "metadata": {},
   "source": [
    "Increase all the prices in 1999 by 10%."
   ]
  },
  {
   "cell_type": "markdown",
   "id": "0f2f033c-6d94-41c2-b508-e499f6f14e30",
   "metadata": {
    "tags": []
   },
   "source": [
    "#### <font color=\"green\">Solution...</font>"
   ]
  },
  {
   "cell_type": "code",
   "execution_count": null,
   "id": "ea7b90a5-4dd8-4327-bbc3-98b6fdc38563",
   "metadata": {
    "jupyter": {
     "source_hidden": true
    },
    "tags": []
   },
   "outputs": [],
   "source": [
    "oil_prices[\"1999\"] * 1.1"
   ]
  },
  {
   "cell_type": "markdown",
   "id": "03a196e0-1774-43df-9768-8a99d34226e3",
   "metadata": {},
   "source": [
    "Inner join the 1999 and 2000 prices."
   ]
  },
  {
   "cell_type": "markdown",
   "id": "fc8f3eee-9065-481e-a01e-91d742637b76",
   "metadata": {
    "tags": []
   },
   "source": [
    "#### <font color=\"green\">Solution...</font>"
   ]
  },
  {
   "cell_type": "code",
   "execution_count": null,
   "id": "ab8336aa-91e5-48d1-a771-47542127e29e",
   "metadata": {
    "jupyter": {
     "source_hidden": true
    },
    "tags": []
   },
   "outputs": [],
   "source": [
    "oil_prices[\"1999\"] + oil_prices[\"2000\"]"
   ]
  },
  {
   "cell_type": "markdown",
   "id": "efed9864-e777-4d71-9bb9-52c5015e3eba",
   "metadata": {},
   "source": [
    "This results in an _empty_ time series as there's no overlap in the time periods."
   ]
  },
  {
   "cell_type": "markdown",
   "id": "d0ef8639-f367-411e-806e-eb084551c62f",
   "metadata": {},
   "source": [
    "Calculate opening, high, low and closing oil prices for each year."
   ]
  },
  {
   "cell_type": "markdown",
   "id": "86c9d810-17a6-40d5-8ef7-fdb213d84786",
   "metadata": {
    "tags": []
   },
   "source": [
    "#### <font color=\"green\">Solution...</font>"
   ]
  },
  {
   "cell_type": "code",
   "execution_count": null,
   "id": "5ca2f73a-0723-41b1-ad55-4256a8a2b598",
   "metadata": {
    "jupyter": {
     "source_hidden": true
    },
    "tags": []
   },
   "outputs": [],
   "source": [
    "to.yearly(oil_prices)"
   ]
  },
  {
   "cell_type": "markdown",
   "id": "4388de2b-0995-40ac-80a9-91169949c1af",
   "metadata": {},
   "source": [
    "## Analyze COVID 19 infections and deaths"
   ]
  },
  {
   "cell_type": "markdown",
   "id": "5cb43a87-f501-420d-93f0-c3c8892df15d",
   "metadata": {},
   "source": [
    "Read the COVID 19 data (`data/covid_19.csv`) as `covid_data`."
   ]
  },
  {
   "cell_type": "markdown",
   "id": "54c72517-d99b-4147-8f80-e72ebc47a61b",
   "metadata": {
    "tags": []
   },
   "source": [
    "#### <font color=\"green\">Solution...</font>"
   ]
  },
  {
   "cell_type": "code",
   "execution_count": null,
   "id": "e0a095f9-8c80-4ad3-a333-5b56dd0f199d",
   "metadata": {
    "jupyter": {
     "source_hidden": true
    },
    "tags": []
   },
   "outputs": [],
   "source": [
    "covid_data <- read_csv(\"data/covid_19.csv\")"
   ]
  },
  {
   "cell_type": "markdown",
   "id": "e71a69d7-2cd7-4a25-9173-ce186220aeb5",
   "metadata": {},
   "source": [
    "Filter out everything _except_ the UK data."
   ]
  },
  {
   "cell_type": "code",
   "execution_count": null,
   "id": "7d583d2d-425b-4b6c-b0c1-ec952f2d492a",
   "metadata": {},
   "outputs": [],
   "source": [
    "covid_data <- filter(covid_data, iso_code == \"GBR\")"
   ]
  },
  {
   "cell_type": "markdown",
   "id": "2583a627-ad9c-4757-ad90-a8e69ed5039b",
   "metadata": {},
   "source": [
    "Create an `xts` times series from the `new_cases` field. Call it `new_cases_raw`. \n",
    "\n",
    "Visualize the `new_cases_raw` time series. "
   ]
  },
  {
   "cell_type": "markdown",
   "id": "f65a638d-4760-453b-888c-820ff6f88aca",
   "metadata": {
    "tags": []
   },
   "source": [
    "#### <font color=\"green\">Solution...</font>"
   ]
  },
  {
   "cell_type": "code",
   "execution_count": null,
   "id": "300e5a87-3237-4e69-b282-645aa72bbf9f",
   "metadata": {
    "jupyter": {
     "source_hidden": true
    },
    "tags": []
   },
   "outputs": [],
   "source": [
    "new_cases_raw <- xts(covid_data$new_cases, order.by=covid_data$date)\n",
    "plot(new_cases_raw)"
   ]
  },
  {
   "cell_type": "markdown",
   "id": "3e92807a-f9f0-46da-8243-4aeb8e01fd37",
   "metadata": {},
   "source": [
    "Create an `xts` times series from the `new_cases_smoothed` field. Call it `new_cases`. \n",
    "\n",
    "Visualize the `new_cases` time series. "
   ]
  },
  {
   "cell_type": "markdown",
   "id": "33227518-3229-46ae-969b-5bebeaf5c285",
   "metadata": {
    "tags": []
   },
   "source": [
    "#### <font color=\"green\">Solution...</font>"
   ]
  },
  {
   "cell_type": "code",
   "execution_count": null,
   "id": "4f983b88-afb6-445e-8010-6f7909bc55c8",
   "metadata": {
    "jupyter": {
     "source_hidden": true
    },
    "tags": []
   },
   "outputs": [],
   "source": [
    "new_cases <- xts(covid_data$new_cases_smoothed, order.by=covid_data$date)\n",
    "plot(new_cases)"
   ]
  },
  {
   "cell_type": "markdown",
   "id": "7d60a936-6002-4e57-99dc-9743a43836a7",
   "metadata": {},
   "source": [
    "Recreate the smoothed time series from the raw data by applying a window function that calculates a 7-day rolling `mean`.\n",
    "\n",
    "Plot this new time series."
   ]
  },
  {
   "cell_type": "markdown",
   "id": "59c428e6-6b72-45bc-97ca-ad4a7822d2d9",
   "metadata": {
    "tags": []
   },
   "source": [
    "#### <font color=\"green\">Solution...</font>"
   ]
  },
  {
   "cell_type": "code",
   "execution_count": null,
   "id": "e39129bc-c1ea-433d-8e66-d56a0d50c2a6",
   "metadata": {
    "jupyter": {
     "source_hidden": true
    },
    "tags": []
   },
   "outputs": [],
   "source": [
    "ts <- rollapply(new_cases_raw, width = 7, FUN = mean)\n",
    "plot(ts)"
   ]
  },
  {
   "cell_type": "markdown",
   "id": "91fec354-59f7-4304-a173-0767a9d29b2e",
   "metadata": {},
   "source": [
    "Compare this time series with the smoothed data from the original data set."
   ]
  },
  {
   "cell_type": "markdown",
   "id": "d10aa4e8-476b-40d3-bd67-839426f84f44",
   "metadata": {},
   "source": [
    "Create an `xts` times series from the `new_deaths_smoothed` field. Call it `new_deaths`. \n",
    "\n",
    "Visualize the `new_deaths` time series. "
   ]
  },
  {
   "cell_type": "markdown",
   "id": "1e7c757f-aba8-4691-8023-6ad3d5d66abe",
   "metadata": {
    "tags": []
   },
   "source": [
    "#### <font color=\"green\">Solution...</font>"
   ]
  },
  {
   "cell_type": "code",
   "execution_count": null,
   "id": "439f3dc6-17fd-401e-9481-94d1c0198183",
   "metadata": {
    "jupyter": {
     "source_hidden": true
    },
    "tags": []
   },
   "outputs": [],
   "source": [
    "new_deaths <- xts(covid_data$new_deaths_smoothed, order.by=covid_data$date)\n",
    "plot(new_deaths)"
   ]
  },
  {
   "cell_type": "markdown",
   "id": "96a99ccf-9448-45bb-850f-466dfbcb94aa",
   "metadata": {},
   "source": [
    "Rescale the `new_cases` and `new_deaths` time series values to range between 0 and 1---i.e. put them on the same scale---by dividing by the maximum value in each of the time series.\n",
    "\n",
    "Name the normalized time series `normalized_cases` and `normalized_deaths`, respectively."
   ]
  },
  {
   "cell_type": "markdown",
   "id": "ae512606-cc04-456c-9c6c-c887e1573e44",
   "metadata": {
    "tags": []
   },
   "source": [
    "#### <font color=\"green\">Solution...</font>"
   ]
  },
  {
   "cell_type": "code",
   "execution_count": null,
   "id": "81d79a1c-c80f-4528-ac62-a6879cad4ab9",
   "metadata": {
    "jupyter": {
     "source_hidden": true
    },
    "tags": []
   },
   "outputs": [],
   "source": [
    "normalized_cases <- new_cases / max(new_cases, na.rm=TRUE)\n",
    "normalized_deaths <- new_deaths / max(new_deaths, na.rm=TRUE)"
   ]
  },
  {
   "cell_type": "markdown",
   "id": "cc2bf6ab-6f7f-4d9b-9333-c43975f8f7d5",
   "metadata": {},
   "source": [
    "Combine the normalized series using `cbind` naming the result `covid_ts`."
   ]
  },
  {
   "cell_type": "markdown",
   "id": "77393d15-8b17-4d17-a287-d68c4730cc12",
   "metadata": {
    "tags": []
   },
   "source": [
    "#### <font color=\"green\">Solution...</font>"
   ]
  },
  {
   "cell_type": "code",
   "execution_count": null,
   "id": "d7678d0c-59c1-4001-8707-aa2f7e9d95b0",
   "metadata": {
    "jupyter": {
     "source_hidden": true
    },
    "tags": []
   },
   "outputs": [],
   "source": [
    "covid_ts <- cbind(normalized_cases, normalized_deaths)"
   ]
  },
  {
   "cell_type": "markdown",
   "id": "ca6c1d57-361a-40c7-809d-1b07c18f22e3",
   "metadata": {},
   "source": [
    "Visualize the two time series (`covid_ts`)."
   ]
  },
  {
   "cell_type": "markdown",
   "id": "1f8b90c5-c370-40dc-8ad4-6d6c4a06cdcc",
   "metadata": {
    "tags": []
   },
   "source": [
    "#### <font color=\"green\">Solution...</font>"
   ]
  },
  {
   "cell_type": "code",
   "execution_count": null,
   "id": "becb717f-f06b-46a7-b64d-ea9498bc0691",
   "metadata": {
    "jupyter": {
     "source_hidden": true
    },
    "tags": []
   },
   "outputs": [],
   "source": [
    "plot(covid_ts)"
   ]
  },
  {
   "cell_type": "markdown",
   "id": "ed22228a-9ee3-416f-a82c-9b0733035978",
   "metadata": {},
   "source": [
    "How long does it take for increases in cases to manifest as deaths?\n",
    "\n",
    "Compare the distance between peaks."
   ]
  },
  {
   "cell_type": "markdown",
   "id": "84e3bf50-da30-4df2-8de7-17202551b894",
   "metadata": {},
   "source": [
    "Shift the deaths back by the number of days it takes for cases to result in deaths. Store the result in `shifted_deaths`."
   ]
  },
  {
   "cell_type": "markdown",
   "id": "3827abf5-6f79-4e83-b57e-f9a8d9f4f65d",
   "metadata": {
    "tags": []
   },
   "source": [
    "#### <font color=\"green\">Solution...</font>"
   ]
  },
  {
   "cell_type": "code",
   "execution_count": null,
   "id": "9cd13595-43b3-4529-9d5f-d4fc36eb7b79",
   "metadata": {
    "jupyter": {
     "source_hidden": true
    },
    "tags": []
   },
   "outputs": [],
   "source": [
    "shifted_deaths <- lag.xts(normalized_deaths, k = -14)"
   ]
  },
  {
   "cell_type": "markdown",
   "id": "d36a00d7-4fae-4608-a548-4e566e3bc6fe",
   "metadata": {},
   "source": [
    "Combine and plot `normalized_cases` and `shifted_deaths`."
   ]
  },
  {
   "cell_type": "markdown",
   "id": "89b9d070-4a11-4426-8a32-a030d60b049f",
   "metadata": {
    "tags": []
   },
   "source": [
    "#### <font color=\"green\">Solution...</font>"
   ]
  },
  {
   "cell_type": "code",
   "execution_count": null,
   "id": "e572d706-5bf8-4214-9a6b-68b89f099b55",
   "metadata": {
    "jupyter": {
     "source_hidden": true
    },
    "tags": []
   },
   "outputs": [],
   "source": [
    "plot(cbind(normalized_cases, shifted_deaths))"
   ]
  },
  {
   "cell_type": "markdown",
   "id": "3aba98ce-9a8a-45d7-a5e0-15113897f2be",
   "metadata": {},
   "source": [
    "Do they now line up? If not, try other values for the the $k$ parameter."
   ]
  },
  {
   "cell_type": "markdown",
   "id": "c7b4b649-56f7-41db-8360-0bd6b76e5f2b",
   "metadata": {},
   "source": [
    "Visualize the rate of change of `new_cases`."
   ]
  },
  {
   "cell_type": "markdown",
   "id": "f3269ba5-68b1-4853-8707-6cf74673e906",
   "metadata": {
    "tags": []
   },
   "source": [
    "#### <font color=\"green\">Solution...</font>"
   ]
  },
  {
   "cell_type": "code",
   "execution_count": null,
   "id": "d96fa6ae-a554-4fdc-8cf6-cecac73df494",
   "metadata": {
    "jupyter": {
     "source_hidden": true
    },
    "tags": []
   },
   "outputs": [],
   "source": [
    "plot(ROC(new_cases))"
   ]
  },
  {
   "cell_type": "markdown",
   "id": "ae053cbb-ddf0-4425-b808-82c2695dac32",
   "metadata": {},
   "source": [
    "Calculate the opening, closing, low and high numbers of new cases (`new_cases_raw`) for each week covered by the data."
   ]
  },
  {
   "cell_type": "markdown",
   "id": "c1a64835-2f88-4de1-ae04-f31ec9215ee0",
   "metadata": {
    "tags": []
   },
   "source": [
    "#### <font color=\"green\">Solution...</font>"
   ]
  },
  {
   "cell_type": "code",
   "execution_count": null,
   "id": "f241bfac-b13f-4277-9718-2a256cd9f632",
   "metadata": {
    "jupyter": {
     "source_hidden": true
    },
    "tags": []
   },
   "outputs": [],
   "source": [
    "to.weekly(new_cases_raw)"
   ]
  },
  {
   "cell_type": "markdown",
   "id": "38b489ad-f2d0-44ec-907f-a7533c66ae42",
   "metadata": {
    "tags": []
   },
   "source": [
    "## Congratulations!"
   ]
  },
  {
   "cell_type": "markdown",
   "id": "bc6591a3-ad5b-456c-8a6c-3c317e09dc13",
   "metadata": {},
   "source": [
    "You have successfully manipulated time series using R."
   ]
  }
 ],
 "metadata": {
  "kernelspec": {
   "display_name": "R",
   "language": "R",
   "name": "ir"
  },
  "language_info": {
   "codemirror_mode": "r",
   "file_extension": ".r",
   "mimetype": "text/x-r-source",
   "name": "R",
   "pygments_lexer": "r",
   "version": "4.1.2"
  }
 },
 "nbformat": 4,
 "nbformat_minor": 5
}
