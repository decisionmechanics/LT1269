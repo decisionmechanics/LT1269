{
 "cells": [
  {
   "cell_type": "markdown",
   "id": "ef19176e-7299-4621-9f4a-c9d396270a27",
   "metadata": {},
   "source": [
    "# Hands-On Exercise 2.1: Working with Data in R"
   ]
  },
  {
   "cell_type": "markdown",
   "id": "005ebaba-41e3-478e-8c2a-47a2492b54d3",
   "metadata": {},
   "source": [
    "## Objectives"
   ]
  },
  {
   "cell_type": "markdown",
   "id": "36c9c388-7b5d-481f-b029-9da9245a9180",
   "metadata": {},
   "source": [
    "In this exercise, you will familiarize yourself with R syntax commands for exploring data sets in R."
   ]
  },
  {
   "cell_type": "markdown",
   "id": "34a69e4d-818c-4c6b-b177-1780c9fc3d14",
   "metadata": {},
   "source": [
    "## Overview"
   ]
  },
  {
   "cell_type": "markdown",
   "id": "c3dae1c2-1f53-47b7-bfe3-7cafdb3474f2",
   "metadata": {},
   "source": [
    "In this exercise, you will use R commands to examine the data structures, query rows, columns, and subsets of a number of data sets using alternative R commands. You will look at how to sample and simulate data within R. You will also look at data distributions and how visualization can aid in this process."
   ]
  },
  {
   "cell_type": "markdown",
   "id": "0ea0244e-30d6-4e5b-9ca7-5270609b55d3",
   "metadata": {},
   "source": [
    "## Querying from data sets"
   ]
  },
  {
   "cell_type": "markdown",
   "id": "d7f22d7e-3947-40b7-ae43-331491beb357",
   "metadata": {},
   "source": [
    "In RStudio, create a new script (e.g. `Ex21.R`). Add commands to the file according to the instructions that follow in this exercise, and execute each command as you move through the steps."
   ]
  },
  {
   "cell_type": "markdown",
   "id": "e91ab552-67a9-49de-a797-30b98fcd18f2",
   "metadata": {},
   "source": [
    "Retrieve data from the first row and second column in the `mtcars` data frame."
   ]
  },
  {
   "cell_type": "markdown",
   "id": "cca4de7c-1f7f-4ebc-9cba-24d66089a8fe",
   "metadata": {
    "tags": []
   },
   "source": [
    "#### <font color=\"green\">Solution...</font>"
   ]
  },
  {
   "cell_type": "code",
   "execution_count": null,
   "id": "670d67f1-6b58-424c-9f04-1d8b05ac8fc2",
   "metadata": {
    "jupyter": {
     "source_hidden": true
    },
    "tags": []
   },
   "outputs": [],
   "source": [
    "mtcars[1, 2]"
   ]
  },
  {
   "cell_type": "markdown",
   "id": "c28f0dbf-a947-4d7c-acd7-17878b813438",
   "metadata": {
    "tags": []
   },
   "source": [
    "Examine the structure of the `iris` data frame, using the `str()` function."
   ]
  },
  {
   "cell_type": "markdown",
   "id": "be2d33f9-0703-4b03-a390-f73cff19007e",
   "metadata": {
    "tags": []
   },
   "source": [
    "#### <font color=\"green\">Solution...</font>"
   ]
  },
  {
   "cell_type": "code",
   "execution_count": null,
   "id": "23d705b4-86a0-43b6-a47c-7b9122d3e8e3",
   "metadata": {
    "jupyter": {
     "source_hidden": true
    },
    "tags": []
   },
   "outputs": [],
   "source": [
    "str(iris)"
   ]
  },
  {
   "cell_type": "markdown",
   "id": "2622387e-9076-4b6a-9b1f-940ed847c97c",
   "metadata": {},
   "source": [
    "What values can the Species factor in iris take (i.e., what are its levels)?"
   ]
  },
  {
   "cell_type": "markdown",
   "id": "bcbd1ea1-58d5-42b6-b649-4d2dc3a98af2",
   "metadata": {
    "tags": []
   },
   "source": [
    "#### <font color=\"green\">Solution...</font>"
   ]
  },
  {
   "cell_type": "code",
   "execution_count": null,
   "id": "d0a0f062-67a7-47d0-a61a-e68cc6374644",
   "metadata": {
    "jupyter": {
     "source_hidden": true
    },
    "tags": []
   },
   "outputs": [],
   "source": [
    "levels(iris$Species)"
   ]
  },
  {
   "cell_type": "markdown",
   "id": "2a366d04-7c18-4ccf-b497-dd89583324af",
   "metadata": {},
   "source": [
    "Examine the attributes in iris for their particular data type. Use one of the following:\n",
    "\n",
    "- `is.numeric()`\n",
    "- `is.character()`\n",
    "- `is.vector()`\n",
    "- `is.matrix()`\n",
    "- `is.data.frame()`"
   ]
  },
  {
   "cell_type": "markdown",
   "id": "6bd743ea-9b73-47c4-b067-4ae324612b05",
   "metadata": {},
   "source": [
    "Use row and column names instead of numeric coordinates to find out how many miles per gallon (`mpg`) a `Merc 280C` gets (query the `mtcars` data set)."
   ]
  },
  {
   "cell_type": "markdown",
   "id": "a956d7d4-95f7-4bc9-9389-52e1c1efc173",
   "metadata": {
    "tags": []
   },
   "source": [
    "#### <font color=\"green\">Solution...</font>"
   ]
  },
  {
   "cell_type": "code",
   "execution_count": null,
   "id": "29818bf8-3e91-4783-8d53-aab8ac8abb82",
   "metadata": {
    "jupyter": {
     "source_hidden": true
    },
    "tags": []
   },
   "outputs": [],
   "source": [
    "mtcars[\"Merc 280C\", \"mpg\"]"
   ]
  },
  {
   "cell_type": "markdown",
   "id": "6590d422-b139-44ee-ab72-7ec2db6cb650",
   "metadata": {},
   "source": [
    "Find out how many rows are in the `mtcars` data frame."
   ]
  },
  {
   "cell_type": "markdown",
   "id": "144ba50a-f3e3-4ce0-b97b-0a6a0ade882e",
   "metadata": {
    "tags": []
   },
   "source": [
    "#### <font color=\"green\">Solution...</font>"
   ]
  },
  {
   "cell_type": "code",
   "execution_count": null,
   "id": "d102963c-02c2-4ab2-bbf7-33846e52ad7a",
   "metadata": {
    "jupyter": {
     "source_hidden": true
    },
    "tags": []
   },
   "outputs": [],
   "source": [
    "nrow(mtcars)"
   ]
  },
  {
   "cell_type": "markdown",
   "id": "5f055f16-8d8b-4084-a644-56c0f66997a5",
   "metadata": {},
   "source": [
    "Find out how many columns are in the data frame."
   ]
  },
  {
   "cell_type": "markdown",
   "id": "c3383c71-c232-499a-af15-5b35b28616c8",
   "metadata": {
    "tags": []
   },
   "source": [
    "#### <font color=\"green\">Solution...</font>"
   ]
  },
  {
   "cell_type": "code",
   "execution_count": null,
   "id": "94497137-cd3f-4659-ac44-f97a298dff58",
   "metadata": {
    "jupyter": {
     "source_hidden": true
    },
    "tags": []
   },
   "outputs": [],
   "source": [
    "ncol(mtcars)"
   ]
  },
  {
   "cell_type": "markdown",
   "id": "7e639827-ed36-4746-953f-2516529acec8",
   "metadata": {},
   "source": [
    "Preview the first few rows of the `mtcars` data frame."
   ]
  },
  {
   "cell_type": "markdown",
   "id": "c64e3782-1bc4-498a-bbb5-5db48e2f2f26",
   "metadata": {
    "tags": []
   },
   "source": [
    "#### <font color=\"green\">Solution...</font>"
   ]
  },
  {
   "cell_type": "code",
   "execution_count": null,
   "id": "d67bfffe-9654-4701-9802-d1c7a1c13af0",
   "metadata": {
    "jupyter": {
     "source_hidden": true
    },
    "tags": []
   },
   "outputs": [],
   "source": [
    "head(mtcars)"
   ]
  },
  {
   "cell_type": "markdown",
   "id": "b79629f9-a58b-4375-9b52-3c5c708378d2",
   "metadata": {},
   "source": [
    "Use the `c()` function to select the `mpg` and `gear` attributes from `mtcars`."
   ]
  },
  {
   "cell_type": "markdown",
   "id": "d83eb944-7179-4ec6-8bed-0b4085728d47",
   "metadata": {
    "tags": []
   },
   "source": [
    "#### <font color=\"green\">Solution...</font>"
   ]
  },
  {
   "cell_type": "code",
   "execution_count": null,
   "id": "859c7010-1dfa-4a76-8cbf-4cfb6fdd9189",
   "metadata": {
    "jupyter": {
     "source_hidden": true
    },
    "tags": []
   },
   "outputs": [],
   "source": [
    "mtcars[c(\"mpg\", \"gear\")]"
   ]
  },
  {
   "cell_type": "markdown",
   "id": "54bcbdfb-f88e-44d4-bc46-b8e5e837370a",
   "metadata": {},
   "source": [
    "Select the first and fifth through tenth variables of `mtcars`."
   ]
  },
  {
   "cell_type": "markdown",
   "id": "f2de48c6-e2a2-4727-835b-92c6f4f07512",
   "metadata": {
    "tags": []
   },
   "source": [
    "#### <font color=\"green\">Solution...</font>"
   ]
  },
  {
   "cell_type": "code",
   "execution_count": null,
   "id": "6c4cd601-4c1f-4949-91d5-441f57e47844",
   "metadata": {
    "jupyter": {
     "source_hidden": true
    },
    "tags": []
   },
   "outputs": [],
   "source": [
    "mtcars[c(1,5:10)]"
   ]
  },
  {
   "cell_type": "markdown",
   "id": "942af6c2-cfac-4709-aea0-007640fd3e25",
   "metadata": {},
   "source": [
    "Exclude the variables `disp`, `hp`, and `drat` from the data set."
   ]
  },
  {
   "cell_type": "markdown",
   "id": "d074439a-4fc3-40e9-bd69-669c2fa75ac1",
   "metadata": {
    "tags": []
   },
   "source": [
    "#### <font color=\"green\">Solution...</font>"
   ]
  },
  {
   "cell_type": "code",
   "execution_count": null,
   "id": "dfbecb63-218b-4317-8ef6-b35d4a452d53",
   "metadata": {
    "jupyter": {
     "source_hidden": true
    },
    "tags": []
   },
   "outputs": [],
   "source": [
    "my_vars <- names(mtcars) %in% c(\"mpg\", \"cyl\", \"disp\")\n",
    "mtcars[!my_vars]"
   ]
  },
  {
   "cell_type": "markdown",
   "id": "74edeb4a-8e8a-4507-9471-669870df4b52",
   "metadata": {},
   "source": [
    "Exclude the third and fifth variables."
   ]
  },
  {
   "cell_type": "markdown",
   "id": "160a8d16-d276-4be3-a692-c1648997d8d4",
   "metadata": {
    "tags": []
   },
   "source": [
    "#### <font color=\"green\">Solution...</font>"
   ]
  },
  {
   "cell_type": "code",
   "execution_count": null,
   "id": "66185cc0-8dab-4921-985f-f17923256358",
   "metadata": {
    "jupyter": {
     "source_hidden": true
    },
    "tags": []
   },
   "outputs": [],
   "source": [
    "mtcars[c(-3,-5)]"
   ]
  },
  {
   "cell_type": "markdown",
   "id": "c620a94a-fdc3-467f-bec4-611d06732ef7",
   "metadata": {},
   "source": [
    "Delete the variables `qsec` and `vs` from a copy of `mtcars`."
   ]
  },
  {
   "cell_type": "markdown",
   "id": "96acaf82-3c93-4e29-a6da-0580cac7269a",
   "metadata": {
    "tags": []
   },
   "source": [
    "#### <font color=\"green\">Solution...</font>"
   ]
  },
  {
   "cell_type": "code",
   "execution_count": null,
   "id": "3cd2a350-eb2b-4788-9cde-93ad8e8af979",
   "metadata": {
    "jupyter": {
     "source_hidden": true
    },
    "tags": []
   },
   "outputs": [],
   "source": [
    "mtcars_copy <- mtcars \n",
    "mtcars_copy$qsec <- mtcars_copy$vs <- NULL\n",
    "mtcars_copy"
   ]
  },
  {
   "cell_type": "markdown",
   "id": "d6ac4499-8cbb-444f-9da9-b8ac3a36d75e",
   "metadata": {},
   "source": [
    "Retrieve the ninth column vector of `mtcars` using the double square bracket (`[[]]`) operator."
   ]
  },
  {
   "cell_type": "markdown",
   "id": "1f79d557-fd86-4cac-80a2-6eb89e58adfe",
   "metadata": {
    "tags": []
   },
   "source": [
    "#### <font color=\"green\">Solution...</font>"
   ]
  },
  {
   "cell_type": "code",
   "execution_count": null,
   "id": "0e80f3ec-fa14-4d67-a6ec-0e2507f7b642",
   "metadata": {
    "jupyter": {
     "source_hidden": true
    },
    "tags": []
   },
   "outputs": [],
   "source": [
    "mtcars[[9]]"
   ]
  },
  {
   "cell_type": "markdown",
   "id": "4e6107dc-e6bc-46d0-b980-d66cae4a87b1",
   "metadata": {},
   "source": [
    "Retrieve the same column vector by its name."
   ]
  },
  {
   "cell_type": "code",
   "execution_count": null,
   "id": "e66bd74e-55bc-493a-be58-9d0b839b4e02",
   "metadata": {
    "jupyter": {
     "source_hidden": true
    },
    "tags": []
   },
   "outputs": [],
   "source": [
    "mtcars[[\"am\"]]"
   ]
  },
  {
   "cell_type": "markdown",
   "id": "1dea737c-c0b9-4e8a-9c29-d18452ce9cf3",
   "metadata": {},
   "source": [
    "Use the `$` operator instead of the double square bracket operator to retrieve `am`."
   ]
  },
  {
   "cell_type": "markdown",
   "id": "db41717c-e914-484b-bc43-c4a97d0b9402",
   "metadata": {
    "tags": []
   },
   "source": [
    "#### <font color=\"green\">Solution...</font>"
   ]
  },
  {
   "cell_type": "code",
   "execution_count": null,
   "id": "847401a6-de7f-48d8-badb-0c983e21677c",
   "metadata": {
    "jupyter": {
     "source_hidden": true
    },
    "tags": []
   },
   "outputs": [],
   "source": [
    "mtcars$am"
   ]
  },
  {
   "cell_type": "markdown",
   "id": "d7c80ca2-3d39-4c60-a3fe-a4a0f2ccdfaa",
   "metadata": {},
   "source": [
    "Use a comma character with the `[]` operator to indicate all rows are to be retrieved from the `am` column vector."
   ]
  },
  {
   "cell_type": "markdown",
   "id": "16fa6dfa-1319-42aa-8980-47c3acbabfe8",
   "metadata": {
    "tags": []
   },
   "source": [
    "#### <font color=\"green\">Solution...</font>"
   ]
  },
  {
   "cell_type": "code",
   "execution_count": null,
   "id": "3ff7ebc3-ce38-4c98-b561-d5a27fb360df",
   "metadata": {
    "jupyter": {
     "source_hidden": true
    },
    "tags": []
   },
   "outputs": [],
   "source": [
    "mtcars[, \"am\"]"
   ]
  },
  {
   "cell_type": "markdown",
   "id": "045ee31c-2171-4fb0-9580-cbd22040a971",
   "metadata": {},
   "source": [
    "Retrieve the first five complete rows of the data set."
   ]
  },
  {
   "cell_type": "markdown",
   "id": "9e78c99b-dfa1-455a-800d-0b30e3e1ddcf",
   "metadata": {
    "tags": []
   },
   "source": [
    "#### <font color=\"green\">Solution...</font>"
   ]
  },
  {
   "cell_type": "code",
   "execution_count": null,
   "id": "b15a35ca-714f-4125-a9c5-f1cd48497c21",
   "metadata": {
    "jupyter": {
     "source_hidden": true
    },
    "tags": []
   },
   "outputs": [],
   "source": [
    "mtcars[1:5,]"
   ]
  },
  {
   "cell_type": "markdown",
   "id": "9dd97122-799a-4128-97dd-2e0d1f248a3b",
   "metadata": {},
   "source": [
    "Load the `weather` data set from the `Rattle` package."
   ]
  },
  {
   "cell_type": "markdown",
   "id": "4b876ea9-0046-47de-85df-c5a5471bf26c",
   "metadata": {
    "tags": []
   },
   "source": [
    "#### <font color=\"green\">Solution...</font>"
   ]
  },
  {
   "cell_type": "code",
   "execution_count": null,
   "id": "6f1d43d4-2970-4d9f-b81a-81a01b71d688",
   "metadata": {
    "jupyter": {
     "source_hidden": true
    },
    "tags": []
   },
   "outputs": [],
   "source": [
    "library(rattle)\n",
    "data(weather, package=\"rattle\")"
   ]
  },
  {
   "cell_type": "markdown",
   "id": "0933b58c-6c59-49ac-89bb-a9c1fc3fbf74",
   "metadata": {},
   "source": [
    "Retrieve rows where the `Rainfall` in `Canberra` is greater than 16."
   ]
  },
  {
   "cell_type": "markdown",
   "id": "0ee0e5c0-9c2d-4b09-8d1a-d5e08925a541",
   "metadata": {
    "tags": []
   },
   "source": [
    "#### <font color=\"green\">Solution...</font>"
   ]
  },
  {
   "cell_type": "code",
   "execution_count": null,
   "id": "8b5da647-450e-4dea-8961-effc0089b581",
   "metadata": {
    "jupyter": {
     "source_hidden": true
    },
    "tags": []
   },
   "outputs": [],
   "source": [
    "weather[which(weather$Location == \"Canberra\" & weather$Rainfall > 16), ]"
   ]
  },
  {
   "cell_type": "markdown",
   "id": "28de13f1-5553-4cc5-bec7-a87e2f0fba5c",
   "metadata": {},
   "source": [
    "Use the `attach()` function to make objects within the data frame accessible with fewer keystrokes and rerun the previous query with shorter syntax."
   ]
  },
  {
   "cell_type": "markdown",
   "id": "3dd81574-688b-429d-bdd9-0457a80cfa0b",
   "metadata": {
    "tags": []
   },
   "source": [
    "#### <font color=\"green\">Solution...</font>"
   ]
  },
  {
   "cell_type": "code",
   "execution_count": null,
   "id": "919ff24a-4b48-40aa-946e-1892a1b85341",
   "metadata": {
    "jupyter": {
     "source_hidden": true
    },
    "tags": []
   },
   "outputs": [],
   "source": [
    "attach(weather)\n",
    "weather[which(Location == \"Canberra\" & Rainfall > 16), ]"
   ]
  },
  {
   "cell_type": "markdown",
   "id": "7425e2c8-0a4f-427e-9c52-217c402433c2",
   "metadata": {},
   "source": [
    "Select the `Location`, `Date`, and `Rainfall` columns for all rows where the `Rainfall` is greater than or equal to 15."
   ]
  },
  {
   "cell_type": "markdown",
   "id": "767be8be-6b7b-4776-b292-f596e2f8282d",
   "metadata": {
    "tags": []
   },
   "source": [
    "#### <font color=\"green\">Solution...</font>"
   ]
  },
  {
   "cell_type": "code",
   "execution_count": null,
   "id": "1fa32ae1-4fa3-41b2-9d9f-a08bab50d959",
   "metadata": {
    "jupyter": {
     "source_hidden": true
    },
    "tags": []
   },
   "outputs": [],
   "source": [
    "subset(weather, Rainfall >= 15, select=c(Location, Date, Rainfall))"
   ]
  },
  {
   "cell_type": "markdown",
   "id": "fa8da57d-147b-4ae6-95b1-402026df0484",
   "metadata": {},
   "source": [
    "Select all columns values between `MinTemp` and `Sunshine` (inclusive) where `WindGustDir` is `NW` and it is raining on the following day."
   ]
  },
  {
   "cell_type": "markdown",
   "id": "2bdfc7cd-9b24-4c50-8f68-071d6518ee50",
   "metadata": {
    "tags": []
   },
   "source": [
    "#### <font color=\"green\">Solution...</font>"
   ]
  },
  {
   "cell_type": "code",
   "execution_count": null,
   "id": "810115ca-bc09-43bf-a795-7612b59a1610",
   "metadata": {
    "jupyter": {
     "source_hidden": true
    },
    "tags": []
   },
   "outputs": [],
   "source": [
    "subset(weather, WindGustDir == \"NW\" & RainTomorrow == \"Yes\", select=MinTemp:Sunshine)"
   ]
  },
  {
   "cell_type": "markdown",
   "id": "136bc98e-8490-4c0d-b86d-cdc523ce4815",
   "metadata": {},
   "source": [
    "## Congratulations!"
   ]
  },
  {
   "cell_type": "markdown",
   "id": "2eadca74-3eb7-4266-a5f3-5758e5985568",
   "metadata": {},
   "source": [
    "You have successfully explored various data sets within R."
   ]
  }
 ],
 "metadata": {
  "kernelspec": {
   "display_name": "R",
   "language": "R",
   "name": "ir"
  },
  "language_info": {
   "codemirror_mode": "r",
   "file_extension": ".r",
   "mimetype": "text/x-r-source",
   "name": "R",
   "pygments_lexer": "r",
   "version": "4.1.2"
  }
 },
 "nbformat": 4,
 "nbformat_minor": 5
}
